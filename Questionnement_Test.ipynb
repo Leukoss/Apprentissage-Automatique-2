{
 "cells": [
  {
   "cell_type": "markdown",
   "source": [
    "# Exploration du jeu de données TEST\n",
    "\n",
    "## Packages"
   ],
   "metadata": {
    "collapsed": false
   },
   "id": "745d60a2a089f9bd"
  },
  {
   "cell_type": "code",
   "outputs": [],
   "source": [
    "import matplotlib.pyplot as plt\n",
    "import pandas as pd"
   ],
   "metadata": {
    "collapsed": false,
    "ExecuteTime": {
     "end_time": "2024-04-16T18:37:30.091192800Z",
     "start_time": "2024-04-16T18:37:28.311837400Z"
    }
   },
   "id": "21bb88717e7a8a8e",
   "execution_count": 1
  },
  {
   "cell_type": "markdown",
   "source": [
    "# Chargement des données"
   ],
   "metadata": {
    "collapsed": false
   },
   "id": "614f947f9e276887"
  },
  {
   "cell_type": "code",
   "outputs": [],
   "source": [
    "files = ['USAGERS', 'VEHICULES', 'CARACTERISTIQUES', 'LIEUX',]\n",
    "data_path = 'Data/TEST/TEST/'\n",
    "\n",
    "test_data = pd.DataFrame()\n",
    "\n",
    "for file_name in files: \n",
    "    path_to_file = data_path + file_name + '.csv'\n",
    "    \n",
    "    data = pd.read_csv(path_to_file, encoding=\"latin1\", sep=\",\", low_memory=False)\n",
    "    \n",
    "    if file_name == 'USAGERS':\n",
    "        test_data = pd.concat([test_data, data], axis=1)\n",
    "    else:\n",
    "        if file_name == 'VEHICULES':\n",
    "            test_data = pd.merge(test_data, data, on=['Num_Acc', 'num_veh'], how='left')\n",
    "        else:\n",
    "            test_data = pd.merge(test_data, data, on=['Num_Acc'], how='left')\n",
    "            \n",
    "train_data = pd.read_csv('Filtered_Data/TRAIN/Full_Train_Data_V0_to_V4.csv', sep=',', low_memory=False)"
   ],
   "metadata": {
    "collapsed": false,
    "ExecuteTime": {
     "end_time": "2024-04-16T18:37:45.731719200Z",
     "start_time": "2024-04-16T18:37:30.094293400Z"
    }
   },
   "id": "263c49c66e7df2cf",
   "execution_count": 2
  },
  {
   "cell_type": "markdown",
   "source": [
    "# Fonctions utiles"
   ],
   "metadata": {
    "collapsed": false
   },
   "id": "6f968851badb1768"
  },
  {
   "cell_type": "code",
   "outputs": [],
   "source": [
    "def delete_columns(list_col: list[str], data_frame: pd.DataFrame) -> None:\n",
    "    \"\"\"\n",
    "    Delete the selected columns from the data frame\n",
    "    :param list_col: list of columns in the dataframe to delete\n",
    "    :param data_frame: dataframe where the deletion is applied\n",
    "    \"\"\"\n",
    "    for col in list_col:\n",
    "        if col in data_frame.columns:\n",
    "            data_frame.drop(labels=[col], axis=1, inplace=True)\n",
    "            \n",
    "def process_secu(value: int) -> int:\n",
    "    \"\"\"\n",
    "    Process the conversion from a 2 digits integer to 1 digits integer\n",
    "    :param value: to be converted\n",
    "    :return: only the digit associated with the security element (or 8 if nothing used)\n",
    "    \"\"\"\n",
    "    value_str = str(value)\n",
    "    if len(value_str) >= 2 and value_str[1] == '1':\n",
    "        return int(value_str[0])\n",
    "    else:\n",
    "        return pd.NA\n",
    "    \n",
    "def convert_to_int(time_str: str) -> int:\n",
    "    \"\"\"\n",
    "    Convert the string time in an integer value to allow intervals implementation\n",
    "    :param time_str: 'XX:XX', 'X:XX', 'XXX', 'X', X, XXX, ...\n",
    "    :return: an integer of the time according to the time format XX(hours)XX(minutes)\n",
    "    \"\"\"\n",
    "    if isinstance(time_str, str):\n",
    "        if ':' in time_str:\n",
    "            hours, minutes = map(int, time_str.split(':'))\n",
    "            return hours * 100 + minutes\n",
    "        else:\n",
    "            return int(time_str)\n",
    "    else:\n",
    "        return time_str\n",
    "    \n",
    "def generate_intervals(start, end, step) -> list[int]:\n",
    "    \"\"\"\n",
    "    Generate the intervals from the start to the end value by step\n",
    "    :param start: first value in the interval\n",
    "    :param end: last value in the interval\n",
    "    :param step: range between two categories\n",
    "    :return: list of intervals\n",
    "    \"\"\"\n",
    "    list_cat = []\n",
    "    for i in range(start, end, step):\n",
    "        list_cat.append((i, i + step))\n",
    "    return list_cat\n",
    "\n",
    "def map_to_simple_value(value: int, list_cat: list[int]) -> int:\n",
    "    \"\"\"\n",
    "    Function to map values to simple values based on intervals\n",
    "    :param list_cat: list of the intervals\n",
    "    :param value: value to map\n",
    "    :return: mapped value\n",
    "    \"\"\"\n",
    "    for i, interval in enumerate(list_cat):\n",
    "        if interval[0] <= value < interval[1]:\n",
    "            return simple_values[i]\n",
    "    return None  \n",
    "\n",
    "def clean_dep(dep: str) -> str:\n",
    "    \"\"\"\n",
    "    Format the string of the department\n",
    "    :param dep: French department\n",
    "    :return: formatted string of the department\n",
    "    \"\"\"\n",
    "    dep = str(dep)\n",
    "    dep = dep.lstrip('0')\n",
    "    if len(dep) == 3 and dep.endswith('0'):\n",
    "        dep = dep[:-1]\n",
    "    if dep in {'201', '202'}:\n",
    "        dep = {'201': '2A', '202': '2B'}[dep]\n",
    "    return dep\n",
    "    \n",
    "def convert_float_to_int(data_frame: pd.DataFrame, col_name: str) -> None:\n",
    "    \"\"\"\n",
    "    Convert the column type in the related dataframe from float to int\n",
    "    :param data_frame: dataframe where the column must be\n",
    "    :param col_name: column to parse\n",
    "    \"\"\"\n",
    "    data_frame[col_name] = data_frame[col_name].astype(int)\n",
    "    \n",
    "def get_info(data_frame: pd.DataFrame) -> dict:\n",
    "    col_info = {}\n",
    "    \n",
    "    for col in data_frame.columns:\n",
    "        possible_values = data_frame[col].unique()\n",
    "        na_count = data_frame[col].isna().sum()\n",
    "        obs_count = data_frame.shape[0]\n",
    "        rep_na = na_count / obs_count * 100\n",
    "        \n",
    "        col_info[col] = {\n",
    "            'possible_values': possible_values.tolist(),\n",
    "            'na_count': na_count,\n",
    "            'rep_na': rep_na\n",
    "        }\n",
    "        \n",
    "    return col_info\n",
    "\n",
    "def display_info(data_frame_test: pd.DataFrame, data_frame_train: pd.DataFrame) -> None:\n",
    "    dict_info_test = get_info(data_frame_test)\n",
    "    dict_info_train = get_info(data_frame_train)\n",
    "    \n",
    "    sorted_info_test = sorted(dict_info_test.items(), key=lambda x: x[1]['rep_na'], reverse=True)\n",
    "    sorted_info_train = sorted(dict_info_train.items(), key=lambda x: x[1]['rep_na'], reverse=True)       \n",
    "    \n",
    "    for col, info in sorted_info_test:\n",
    "        if info['rep_na'] >= 5:\n",
    "            train_info = next((train_info for train_col, train_info in sorted_info_train if train_col == col), None)\n",
    "            print('*******')\n",
    "            print('TEST')\n",
    "            print(f\"- {col}: {info['rep_na']:.2f}%.\")\n",
    "            print('TRAIN')\n",
    "            print(f\"- {col}: {train_info['rep_na']:.2f}%.\")\n",
    "            print('')\n",
    "        \n",
    "def process_data_and_plot(data: pd.DataFrame) -> None:\n",
    "    data['Four_Digits'] = data['Num_Acc'].astype(str).str[:4]\n",
    "    four_digits_counts = data['Four_Digits'].value_counts()\n",
    "\n",
    "    plt.figure(figsize=(14, 3))\n",
    "    four_digits_counts.plot(kind='bar')\n",
    "    plt.title('Distribution of Four-Digit Values in Num_Acc Column')\n",
    "    plt.xlabel('Four-Digit Value')\n",
    "    plt.ylabel('Count')\n",
    "    plt.xticks(rotation=45)\n",
    "    plt.tight_layout()\n",
    "    plt.show()\n",
    "\n",
    "    years = data['Four_Digits'].unique()\n",
    "    full_data_years = {}  \n",
    "\n",
    "    for year in years:\n",
    "        full_data_years[year] = data[data['Four_Digits'] == year].copy()\n",
    "        globals()[f\"{data.name}_{year}\"] = full_data_years[year].copy() \n",
    "    \n",
    "    # Create dataframes for the intervals 2012-2018 and 2019-2022\n",
    "    globals()[f\"{data.name}_2012_2018\"] = pd.concat([data for year, data in full_data_years.items() if 2012 <= int(year) <= 2018])\n",
    "    globals()[f\"{data.name}_2019_2022\"] = pd.concat([data for year, data in full_data_years.items() if 2019 <= int(year) <= 2022])\n",
    "\n",
    "    num_observations = sorted([(year, len(data)) for year, data in full_data_years.items()])\n",
    "    years = [year for year, _ in num_observations]\n",
    "    observations = [obs for _, obs in num_observations]\n",
    "\n",
    "    plt.figure(figsize=(15, 5))\n",
    "    plt.bar(years, observations, color='skyblue')\n",
    "    plt.xlabel('Year')\n",
    "    plt.ylabel('Number of Observations')\n",
    "    plt.title('Number of Observations per Year')\n",
    "    plt.xticks(rotation=45)\n",
    "    plt.grid(axis='y')\n",
    "    plt.tight_layout()\n",
    "    plt.show()\n",
    "\n",
    "    combined_years = ['2012-2018', '2019-2022']\n",
    "    combined_counts = [sum(observations[:7]), sum(observations[7:])]\n",
    "\n",
    "    plt.figure(figsize=(12, 6))\n",
    "    plt.bar(years, observations, color='skyblue', label='Individual Years')\n",
    "    plt.bar(combined_years, combined_counts, color='salmon', label='Combined Years')\n",
    "\n",
    "    plt.xlabel('Year')\n",
    "    plt.ylabel('Number of Observations')\n",
    "    plt.title('Number of Observations per Year')\n",
    "    plt.xticks(rotation=45)\n",
    "    plt.legend()\n",
    "    plt.grid(axis='y')\n",
    "    plt.tight_layout()\n",
    "    plt.show()"
   ],
   "metadata": {
    "collapsed": false,
    "ExecuteTime": {
     "end_time": "2024-04-16T18:37:45.789532500Z",
     "start_time": "2024-04-16T18:37:45.739564900Z"
    }
   },
   "id": "7fa1b3fdcf4a20d1",
   "execution_count": 3
  },
  {
   "cell_type": "markdown",
   "source": [
    "# Répartition 2012 à 2022 sur le TEST Set"
   ],
   "metadata": {
    "collapsed": false
   },
   "id": "9897065a0d937911"
  },
  {
   "cell_type": "code",
   "outputs": [
    {
     "data": {
      "text/plain": "<Figure size 1400x300 with 1 Axes>",
      "image/png": "[encoded data removed]"
     },
     "metadata": {},
     "output_type": "display_data"
    },
    {
     "data": {
      "text/plain": "<Figure size 1500x500 with 1 Axes>",
      "image/png": "[encoded data removed]"
     },
     "metadata": {},
     "output_type": "display_data"
    },
    {
     "data": {
      "text/plain": "<Figure size 1200x600 with 1 Axes>",
      "image/png": "[encoded data removed]"
     },
     "metadata": {},
     "output_type": "display_data"
    }
   ],
   "source": [
    "test_data.name = 'test_data'\n",
    "process_data_and_plot(test_data)"
   ],
   "metadata": {
    "collapsed": false,
    "ExecuteTime": {
     "end_time": "2024-04-16T18:37:47.730001500Z",
     "start_time": "2024-04-16T18:37:45.789532500Z"
    }
   },
   "id": "6db640b8d4d2ecaa",
   "execution_count": 4
  },
  {
   "cell_type": "markdown",
   "source": [
    "# Répartition 2012 à 2022 sur le TRAIN Set"
   ],
   "metadata": {
    "collapsed": false
   },
   "id": "890d20b540bc112b"
  },
  {
   "cell_type": "code",
   "outputs": [
    {
     "data": {
      "text/plain": "<Figure size 1400x300 with 1 Axes>",
      "image/png": "[encoded data removed]"
     },
     "metadata": {},
     "output_type": "display_data"
    },
    {
     "data": {
      "text/plain": "<Figure size 1500x500 with 1 Axes>",
      "image/png": "[encoded data removed]"
     },
     "metadata": {},
     "output_type": "display_data"
    },
    {
     "data": {
      "text/plain": "<Figure size 1200x600 with 1 Axes>",
      "image/png": "[encoded data removed]"
     },
     "metadata": {},
     "output_type": "display_data"
    }
   ],
   "source": [
    "train_data.name = 'train_data'\n",
    "process_data_and_plot(train_data)"
   ],
   "metadata": {
    "collapsed": false,
    "ExecuteTime": {
     "end_time": "2024-04-16T18:37:53.033489400Z",
     "start_time": "2024-04-16T18:37:47.731000900Z"
    }
   },
   "id": "1a7e4eba8ef62a80",
   "execution_count": 5
  },
  {
   "cell_type": "markdown",
   "source": [
    "On observe que les deux jeux de données au complet comportent globalement une répartition similaire des observations par an avec un facteur multiplicatif 'λ' (~10)."
   ],
   "metadata": {
    "collapsed": false
   },
   "id": "6ae8cc110da104bb"
  },
  {
   "cell_type": "markdown",
   "source": [
    "# Data 2012 - 2018 vs Data 2019 - 2022"
   ],
   "metadata": {
    "collapsed": false
   },
   "id": "8388d0604913cbb4"
  },
  {
   "cell_type": "markdown",
   "source": [
    "### 2012 - 2018"
   ],
   "metadata": {
    "collapsed": false
   },
   "id": "32c3f59161914249"
  },
  {
   "cell_type": "code",
   "outputs": [
    {
     "name": "stdout",
     "output_type": "stream",
     "text": [
      "*******\n",
      "TEST\n",
      "- id_vehicule_x: 100.00%.\n",
      "TRAIN\n",
      "- id_vehicule_x: 100.00%.\n",
      "\n",
      "*******\n",
      "TEST\n",
      "- secu1: 100.00%.\n",
      "TRAIN\n",
      "- secu1: 100.00%.\n",
      "\n",
      "*******\n",
      "TEST\n",
      "- secu2: 100.00%.\n",
      "TRAIN\n",
      "- secu2: 100.00%.\n",
      "\n",
      "*******\n",
      "TEST\n",
      "- secu3: 100.00%.\n",
      "TRAIN\n",
      "- secu3: 100.00%.\n",
      "\n",
      "*******\n",
      "TEST\n",
      "- id_usager: 100.00%.\n",
      "TRAIN\n",
      "- id_usager: 100.00%.\n",
      "\n",
      "*******\n",
      "TEST\n",
      "- id_vehicule_y: 100.00%.\n",
      "TRAIN\n",
      "- id_vehicule_y: 100.00%.\n",
      "\n",
      "*******\n",
      "TEST\n",
      "- motor: 100.00%.\n",
      "TRAIN\n",
      "- motor: 100.00%.\n",
      "\n",
      "*******\n",
      "TEST\n",
      "- vma: 100.00%.\n",
      "TRAIN\n",
      "- vma: 100.00%.\n",
      "\n",
      "*******\n",
      "TEST\n",
      "- v1: 99.49%.\n",
      "TRAIN\n",
      "- v1: 99.48%.\n",
      "\n",
      "*******\n",
      "TEST\n",
      "- v2: 96.43%.\n",
      "TRAIN\n",
      "- v2: 96.11%.\n",
      "\n",
      "*******\n",
      "TEST\n",
      "- pr1: 49.84%.\n",
      "TRAIN\n",
      "- pr1: 49.92%.\n",
      "\n",
      "*******\n",
      "TEST\n",
      "- pr: 49.54%.\n",
      "TRAIN\n",
      "- pr: 49.61%.\n",
      "\n",
      "*******\n",
      "TEST\n",
      "- lat: 32.66%.\n",
      "TRAIN\n",
      "- lat: 32.32%.\n",
      "\n",
      "*******\n",
      "TEST\n",
      "- long: 32.66%.\n",
      "TRAIN\n",
      "- long: 32.33%.\n",
      "\n",
      "*******\n",
      "TEST\n",
      "- gps: 30.66%.\n",
      "TRAIN\n",
      "- gps: 30.34%.\n",
      "\n",
      "*******\n",
      "TEST\n",
      "- voie: 14.43%.\n",
      "TRAIN\n",
      "- voie: 14.12%.\n",
      "\n",
      "*******\n",
      "TEST\n",
      "- lartpc: 13.28%.\n",
      "TRAIN\n",
      "- lartpc: 13.32%.\n",
      "\n",
      "*******\n",
      "TEST\n",
      "- larrout: 13.03%.\n",
      "TRAIN\n",
      "- larrout: 12.95%.\n",
      "\n",
      "*******\n",
      "TEST\n",
      "- adr: 12.35%.\n",
      "TRAIN\n",
      "- adr: 12.49%.\n",
      "\n",
      "*******\n",
      "TEST\n",
      "- place: 8.86%.\n",
      "TRAIN\n",
      "- place: 8.96%.\n",
      "\n",
      "*******\n",
      "TEST\n",
      "- etatp: 6.12%.\n",
      "TRAIN\n",
      "- etatp: 5.94%.\n",
      "\n",
      "*******\n",
      "TEST\n",
      "- actp: 6.12%.\n",
      "TRAIN\n",
      "- actp: 5.94%.\n",
      "\n",
      "*******\n",
      "TEST\n",
      "- locp: 6.12%.\n",
      "TRAIN\n",
      "- locp: 5.93%.\n"
     ]
    }
   ],
   "source": [
    "display_info(test_data_2012_2018, train_data_2012_2018)"
   ],
   "metadata": {
    "collapsed": false,
    "ExecuteTime": {
     "end_time": "2024-04-16T18:37:54.624925300Z",
     "start_time": "2024-04-16T18:37:53.033489400Z"
    }
   },
   "id": "864f7952d72e841",
   "execution_count": 6
  },
  {
   "cell_type": "markdown",
   "source": [
    "Les features qui contiennent trop peu de variables et qui malgré une imputation ne saurait être pertinente, car l'imputation biaiserait les données sont :\n",
    "- **id_vehicule_x** : 100.00% de valeurs manquantes.\n",
    "- **id_vehicule_y** : 100.00% de valeurs manquantes.\n",
    "- **id_usager** : 100.00% de valeurs manquantes.\n",
    "- **motor** : 100.00% de valeurs manquantes.\n",
    "- **secu1** : 100.00% de valeurs manquantes.\n",
    "- **secu2** : 100.00% de valeurs manquantes.\n",
    "- **secu3** : 100.00% de valeurs manquantes.\n",
    "- **long** : 32.66% de valeurs manquantes.\n",
    "- **lat** : 32.66% de valeurs manquantes.\n",
    "- **pr1** : 49.84% de valeurs manquantes.\n",
    "- **vma** : 100.0% de valeurs manquantes.\n",
    "- **gps** : 30.66% de valeurs manquantes.\n",
    "- **pr** : 49.54% de valeurs manquantes.\n",
    "- **v1** : 99.49% de valeurs manquantes.\n",
    "- **v2** : 96.43% de valeurs manquantes.\n",
    "\n",
    "On notera que la répartition du jeu de données pour l'entraînement et pour le test sont sensiblement les mêmes."
   ],
   "metadata": {
    "collapsed": false
   },
   "id": "11887570ba7e0c4f"
  },
  {
   "cell_type": "code",
   "outputs": [],
   "source": [
    "col_to_drop_2012_2018 = ['id_vehicule_x', 'id_vehicule_y', 'id_usager', 'secu1', 'secu2', 'secu3', 'motor', 'vma', 'v1', 'v2', 'pr1', 'pr','long', 'lat', 'gps']\n",
    "col_to_drop_imperatively_2012_2018 = ['id_vehicule_x', 'id_vehicule_y', 'id_usager', 'secu1', 'secu2', 'secu3', 'motor', 'vma']\n",
    "list_df = [test_data_2012, test_data_2013, test_data_2014, test_data_2015, test_data_2016, test_data_2017, test_data_2018, test_data_2012_2018, train_data_2012, train_data_2013, train_data_2014, train_data_2015, train_data_2016, train_data_2017, train_data_2018, train_data_2012_2018]\n",
    "\n",
    "for df in list_df:\n",
    "    df.drop(columns=col_to_drop_imperatively_2012_2018, inplace=True)"
   ],
   "metadata": {
    "collapsed": false,
    "ExecuteTime": {
     "end_time": "2024-04-16T18:37:55.269277800Z",
     "start_time": "2024-04-16T18:37:54.618584800Z"
    }
   },
   "id": "73d098f82d5652b0",
   "execution_count": 7
  },
  {
   "cell_type": "markdown",
   "source": [
    "### 2019 - 2022"
   ],
   "metadata": {
    "collapsed": false
   },
   "id": "c34de6e05c5cf022"
  },
  {
   "cell_type": "code",
   "outputs": [
    {
     "name": "stdout",
     "output_type": "stream",
     "text": [
      "*******\n",
      "TEST\n",
      "- secu: 100.00%.\n",
      "TRAIN\n",
      "- secu: 100.00%.\n",
      "\n",
      "*******\n",
      "TEST\n",
      "- gps: 100.00%.\n",
      "TRAIN\n",
      "- gps: 100.00%.\n",
      "\n",
      "*******\n",
      "TEST\n",
      "- env1: 100.00%.\n",
      "TRAIN\n",
      "- env1: 100.00%.\n",
      "\n",
      "*******\n",
      "TEST\n",
      "- lartpc: 99.76%.\n",
      "TRAIN\n",
      "- lartpc: 99.78%.\n",
      "\n",
      "*******\n",
      "TEST\n",
      "- occutc: 98.65%.\n",
      "TRAIN\n",
      "- occutc: 98.75%.\n",
      "\n",
      "*******\n",
      "TEST\n",
      "- v2: 91.86%.\n",
      "TRAIN\n",
      "- v2: 92.01%.\n",
      "\n",
      "*******\n",
      "TEST\n",
      "- id_usager: 48.29%.\n",
      "TRAIN\n",
      "- id_usager: 48.22%.\n",
      "\n",
      "*******\n",
      "TEST\n",
      "- larrout: 26.89%.\n",
      "TRAIN\n",
      "- larrout: 26.74%.\n",
      "\n",
      "*******\n",
      "TEST\n",
      "- voie: 9.72%.\n",
      "TRAIN\n",
      "- voie: 9.61%.\n",
      "\n",
      "*******\n",
      "TEST\n",
      "- v1: 5.03%.\n",
      "TRAIN\n",
      "- v1: 4.97%.\n"
     ]
    }
   ],
   "source": [
    "display_info(test_data_2019_2022, train_data_2019_2022)"
   ],
   "metadata": {
    "collapsed": false,
    "ExecuteTime": {
     "end_time": "2024-04-16T18:37:56.625584700Z",
     "start_time": "2024-04-16T18:37:55.261150300Z"
    }
   },
   "id": "8483a4d828c95773",
   "execution_count": 8
  },
  {
   "cell_type": "markdown",
   "source": [
    "Les features qui contiennent trop peu de variables et qui malgré une imputation ne saurait être pertinente, car l'imputation biaiserait les données sont :\n",
    "- **id_usager** : 48.29% de valeurs manquantes.\n",
    "- **lartpc** : 99.76% de valeurs manquantes.\n",
    "- **occutc** : 98.65% de valeurs manquantes.\n",
    "- **secu** : 100.00% de valeurs manquantes.\n",
    "- **env1** : 100.00% de valeurs manquantes.\n",
    "- **gps** : 100.00% de valeurs manquantes.\n",
    "- **v2** : 91.86% de valeurs manquantes."
   ],
   "metadata": {
    "collapsed": false
   },
   "id": "47d8edd2409f863e"
  },
  {
   "cell_type": "code",
   "outputs": [],
   "source": [
    "col_to_drop_2019_2022 = ['id_usager', 'secu', 'lartpc', 'occutc', 'env1', 'gps', 'v2']\n",
    "col_to_drop_imperatively_2019_2022 = ['secu', 'env1', 'gps']\n",
    "list_df = [test_data_2019,test_data_2020, test_data_2021, test_data_2022, test_data_2019_2022, train_data_2019,train_data_2020 , train_data_2022, train_data_2019_2022]\n",
    "\n",
    "for df in list_df:\n",
    "    df.drop(columns=col_to_drop_imperatively_2019_2022, inplace=True)"
   ],
   "metadata": {
    "collapsed": false,
    "ExecuteTime": {
     "end_time": "2024-04-16T18:37:56.955308Z",
     "start_time": "2024-04-16T18:37:56.619346800Z"
    }
   },
   "id": "fdf9a16c462525fa",
   "execution_count": 9
  },
  {
   "cell_type": "markdown",
   "source": [
    "### 2012"
   ],
   "metadata": {
    "collapsed": false
   },
   "id": "99c711bafc4e3c7c"
  },
  {
   "cell_type": "code",
   "outputs": [
    {
     "name": "stdout",
     "output_type": "stream",
     "text": [
      "*******\n",
      "TEST\n",
      "- v1: 99.49%.\n",
      "TRAIN\n",
      "- v1: 99.59%.\n",
      "\n",
      "*******\n",
      "TEST\n",
      "- v2: 95.92%.\n",
      "TRAIN\n",
      "- v2: 95.73%.\n",
      "\n",
      "*******\n",
      "TEST\n",
      "- lat: 54.95%.\n",
      "TRAIN\n",
      "- lat: 53.81%.\n",
      "\n",
      "*******\n",
      "TEST\n",
      "- long: 54.95%.\n",
      "TRAIN\n",
      "- long: 53.81%.\n",
      "\n",
      "*******\n",
      "TEST\n",
      "- gps: 52.82%.\n",
      "TRAIN\n",
      "- gps: 51.55%.\n",
      "\n",
      "*******\n",
      "TEST\n",
      "- pr1: 52.30%.\n",
      "TRAIN\n",
      "- pr1: 52.18%.\n",
      "\n",
      "*******\n",
      "TEST\n",
      "- pr: 52.10%.\n",
      "TRAIN\n",
      "- pr: 51.91%.\n",
      "\n",
      "*******\n",
      "TEST\n",
      "- adr: 16.48%.\n",
      "TRAIN\n",
      "- adr: 17.45%.\n",
      "\n",
      "*******\n",
      "TEST\n",
      "- voie: 10.41%.\n",
      "TRAIN\n",
      "- voie: 10.84%.\n",
      "\n",
      "*******\n",
      "TEST\n",
      "- place: 8.51%.\n",
      "TRAIN\n",
      "- place: 8.97%.\n"
     ]
    }
   ],
   "source": [
    "display_info(test_data_2012, train_data_2012)"
   ],
   "metadata": {
    "collapsed": false,
    "ExecuteTime": {
     "end_time": "2024-04-16T18:37:57.251541500Z",
     "start_time": "2024-04-16T18:37:56.949182700Z"
    }
   },
   "id": "5b191fb59edae750",
   "execution_count": 10
  },
  {
   "cell_type": "markdown",
   "source": [
    "Les features qui contiennent trop peu de variables et qui malgré une imputation ne saurait être pertinente, car l'imputation biaiserait les données sont :\n",
    "- **long** : 54.95% de valeurs manquantes.\n",
    "- **lat** : 54.95% de valeurs manquantes.\n",
    "- **gps** : 52.82% de valeurs manquantes.\n",
    "- **pr1** : 52.30% de valeurs manquantes.\n",
    "- **pr** : 52.10% de valeurs manquantes.\n",
    "- **v1** : 99.49% de valeurs manquantes.\n",
    "- **v2** : 91.86% de valeurs manquantes."
   ],
   "metadata": {
    "collapsed": false
   },
   "id": "e26b67f8bdb6099b"
  },
  {
   "cell_type": "code",
   "outputs": [],
   "source": [
    "col_to_drop_2012 = ['v1', 'v2', 'pr', 'pr1', 'gps', 'lat', 'long']\n",
    "\n",
    "test_data_filtered_2012 = test_data_2012.drop(columns=col_to_drop_2012, inplace=False)\n",
    "train_data_filtered_2012 = train_data_2012.drop(columns=col_to_drop_2012, inplace=False)"
   ],
   "metadata": {
    "collapsed": false,
    "ExecuteTime": {
     "end_time": "2024-04-16T18:37:57.292411800Z",
     "start_time": "2024-04-16T18:37:57.150906900Z"
    }
   },
   "id": "727b91000382e21a",
   "execution_count": 11
  },
  {
   "cell_type": "markdown",
   "source": [
    "### 2013"
   ],
   "metadata": {
    "collapsed": false
   },
   "id": "6794a43a618cd094"
  },
  {
   "cell_type": "code",
   "outputs": [
    {
     "name": "stdout",
     "output_type": "stream",
     "text": [
      "*******\n",
      "TEST\n",
      "- v1: 99.61%.\n",
      "TRAIN\n",
      "- v1: 99.61%.\n",
      "\n",
      "*******\n",
      "TEST\n",
      "- v2: 96.78%.\n",
      "TRAIN\n",
      "- v2: 96.88%.\n",
      "\n",
      "*******\n",
      "TEST\n",
      "- pr1: 52.48%.\n",
      "TRAIN\n",
      "- pr1: 52.69%.\n",
      "\n",
      "*******\n",
      "TEST\n",
      "- pr: 52.24%.\n",
      "TRAIN\n",
      "- pr: 52.30%.\n",
      "\n",
      "*******\n",
      "TEST\n",
      "- lat: 49.74%.\n",
      "TRAIN\n",
      "- lat: 50.77%.\n",
      "\n",
      "*******\n",
      "TEST\n",
      "- long: 49.74%.\n",
      "TRAIN\n",
      "- long: 50.77%.\n",
      "\n",
      "*******\n",
      "TEST\n",
      "- gps: 49.31%.\n",
      "TRAIN\n",
      "- gps: 50.32%.\n",
      "\n",
      "*******\n",
      "TEST\n",
      "- adr: 17.80%.\n",
      "TRAIN\n",
      "- adr: 17.29%.\n",
      "\n",
      "*******\n",
      "TEST\n",
      "- place: 9.14%.\n",
      "TRAIN\n",
      "- place: 9.38%.\n",
      "\n",
      "*******\n",
      "TEST\n",
      "- voie: 7.76%.\n",
      "TRAIN\n",
      "- voie: 7.57%.\n"
     ]
    }
   ],
   "source": [
    "display_info(test_data_2013, train_data_2013)"
   ],
   "metadata": {
    "collapsed": false,
    "ExecuteTime": {
     "end_time": "2024-04-16T18:37:57.406652900Z",
     "start_time": "2024-04-16T18:37:57.173482500Z"
    }
   },
   "id": "4dbd01b7e4aedd6a",
   "execution_count": 12
  },
  {
   "cell_type": "markdown",
   "source": [
    "Les features qui contiennent trop peu de variables et qui malgré une imputation ne saurait être pertinente, car l'imputation biaiserait les données sont :\n",
    "- **long** : 49.74% de valeurs manquantes.\n",
    "- **lat** : 49.74% de valeurs manquantes.\n",
    "- **gps** : 49.31% de valeurs manquantes.\n",
    "- **pr1** : 52.48% de valeurs manquantes.\n",
    "- **pr** : 52.24% de valeurs manquantes.\n",
    "- **v1** : 99.61% de valeurs manquantes.\n",
    "- **v2** : 96.78% de valeurs manquantes."
   ],
   "metadata": {
    "collapsed": false
   },
   "id": "c9ca9ecdf8786aa3"
  },
  {
   "cell_type": "code",
   "outputs": [],
   "source": [
    "col_to_drop_2013 = ['v1', 'v2', 'pr', 'pr1', 'gps', 'lat', 'long']\n",
    "\n",
    "test_data_filtered_2013 = test_data_2013.drop(columns=col_to_drop_2013, inplace=False)\n",
    "train_data_filtered_2013 = train_data_2013.drop(columns=col_to_drop_2013, inplace=False)"
   ],
   "metadata": {
    "collapsed": false,
    "ExecuteTime": {
     "end_time": "2024-04-16T18:37:57.452116400Z",
     "start_time": "2024-04-16T18:37:57.401567300Z"
    }
   },
   "id": "2ce37ddadc346ac4",
   "execution_count": 13
  },
  {
   "cell_type": "markdown",
   "source": [
    "### 2014"
   ],
   "metadata": {
    "collapsed": false
   },
   "id": "ebccc20f6e92fcc3"
  },
  {
   "cell_type": "code",
   "outputs": [
    {
     "name": "stdout",
     "output_type": "stream",
     "text": [
      "*******\n",
      "TEST\n",
      "- v1: 99.47%.\n",
      "TRAIN\n",
      "- v1: 99.58%.\n",
      "\n",
      "*******\n",
      "TEST\n",
      "- v2: 97.12%.\n",
      "TRAIN\n",
      "- v2: 96.70%.\n",
      "\n",
      "*******\n",
      "TEST\n",
      "- pr1: 52.44%.\n",
      "TRAIN\n",
      "- pr1: 52.66%.\n",
      "\n",
      "*******\n",
      "TEST\n",
      "- pr: 51.95%.\n",
      "TRAIN\n",
      "- pr: 52.35%.\n",
      "\n",
      "*******\n",
      "TEST\n",
      "- lat: 46.81%.\n",
      "TRAIN\n",
      "- lat: 47.97%.\n",
      "\n",
      "*******\n",
      "TEST\n",
      "- long: 46.81%.\n",
      "TRAIN\n",
      "- long: 47.97%.\n",
      "\n",
      "*******\n",
      "TEST\n",
      "- gps: 46.20%.\n",
      "TRAIN\n",
      "- gps: 47.37%.\n",
      "\n",
      "*******\n",
      "TEST\n",
      "- adr: 17.61%.\n",
      "TRAIN\n",
      "- adr: 17.06%.\n",
      "\n",
      "*******\n",
      "TEST\n",
      "- place: 9.38%.\n",
      "TRAIN\n",
      "- place: 9.29%.\n",
      "\n",
      "*******\n",
      "TEST\n",
      "- voie: 6.44%.\n",
      "TRAIN\n",
      "- voie: 6.24%.\n"
     ]
    }
   ],
   "source": [
    "display_info(test_data_2014, train_data_2014)"
   ],
   "metadata": {
    "collapsed": false,
    "ExecuteTime": {
     "end_time": "2024-04-16T18:37:57.638722Z",
     "start_time": "2024-04-16T18:37:57.427579300Z"
    }
   },
   "id": "4365902dc28ccbaf",
   "execution_count": 14
  },
  {
   "cell_type": "markdown",
   "source": [
    "Les features qui contiennent trop peu de variables et qui malgré une imputation ne saurait être pertinente, car l'imputation biaiserait les données sont :\n",
    "- **long** : 46.81% de valeurs manquantes.\n",
    "- **lat** : 46.81% de valeurs manquantes.\n",
    "- **gps** : 46.20% de valeurs manquantes.\n",
    "- **pr1** : 52.44% de valeurs manquantes.\n",
    "- **pr** : 51.95% de valeurs manquantes.\n",
    "- **v1** : 99.47% de valeurs manquantes.\n",
    "- **v2** : 97.12% de valeurs manquantes."
   ],
   "metadata": {
    "collapsed": false
   },
   "id": "b44019ed64727dae"
  },
  {
   "cell_type": "code",
   "outputs": [],
   "source": [
    "col_to_drop_2014 = ['v1', 'v2', 'pr', 'pr1', 'gps', 'lat', 'long']\n",
    "\n",
    "test_data_filtered_2014 = test_data_2014.drop(columns=col_to_drop_2014, inplace=False)\n",
    "train_data_filtered_2014 = train_data_2014.drop(columns=col_to_drop_2014, inplace=False)"
   ],
   "metadata": {
    "collapsed": false,
    "ExecuteTime": {
     "end_time": "2024-04-16T18:37:57.683013600Z",
     "start_time": "2024-04-16T18:37:57.633620400Z"
    }
   },
   "id": "fe6fc31db217fb6",
   "execution_count": 15
  },
  {
   "cell_type": "markdown",
   "source": [
    "### 2015"
   ],
   "metadata": {
    "collapsed": false
   },
   "id": "4a571baedf7865d7"
  },
  {
   "cell_type": "code",
   "outputs": [
    {
     "name": "stdout",
     "output_type": "stream",
     "text": [
      "*******\n",
      "TEST\n",
      "- v1: 99.37%.\n",
      "TRAIN\n",
      "- v1: 99.26%.\n",
      "\n",
      "*******\n",
      "TEST\n",
      "- v2: 96.49%.\n",
      "TRAIN\n",
      "- v2: 96.56%.\n",
      "\n",
      "*******\n",
      "TEST\n",
      "- pr1: 55.54%.\n",
      "TRAIN\n",
      "- pr1: 55.63%.\n",
      "\n",
      "*******\n",
      "TEST\n",
      "- pr: 55.17%.\n",
      "TRAIN\n",
      "- pr: 55.32%.\n",
      "\n",
      "*******\n",
      "TEST\n",
      "- lat: 36.60%.\n",
      "TRAIN\n",
      "- lat: 35.72%.\n",
      "\n",
      "*******\n",
      "TEST\n",
      "- long: 36.60%.\n",
      "TRAIN\n",
      "- long: 35.72%.\n",
      "\n",
      "*******\n",
      "TEST\n",
      "- gps: 36.09%.\n",
      "TRAIN\n",
      "- gps: 35.16%.\n",
      "\n",
      "*******\n",
      "TEST\n",
      "- adr: 16.49%.\n",
      "TRAIN\n",
      "- adr: 16.88%.\n",
      "\n",
      "*******\n",
      "TEST\n",
      "- place: 8.91%.\n",
      "TRAIN\n",
      "- place: 9.15%.\n",
      "\n",
      "*******\n",
      "TEST\n",
      "- voie: 7.48%.\n",
      "TRAIN\n",
      "- voie: 7.52%.\n",
      "\n",
      "*******\n",
      "TEST\n",
      "- secu: 5.77%.\n",
      "TRAIN\n",
      "- secu: 6.29%.\n"
     ]
    }
   ],
   "source": [
    "display_info(test_data_2015, train_data_2015)"
   ],
   "metadata": {
    "collapsed": false,
    "ExecuteTime": {
     "end_time": "2024-04-16T18:37:57.888464700Z",
     "start_time": "2024-04-16T18:37:57.661594900Z"
    }
   },
   "id": "ff7b4fb666f3f8ca",
   "execution_count": 16
  },
  {
   "cell_type": "markdown",
   "source": [
    "Les features qui contiennent trop peu de variables et qui malgré une imputation ne saurait être pertinente, car l'imputation biaiserait les données sont :\n",
    "- **long** : 36.60% de valeurs manquantes.\n",
    "- **lat** : 36.60% de valeurs manquantes.\n",
    "- **gps** : 36.09% de valeurs manquantes.\n",
    "- **pr1** : 55.54% de valeurs manquantes.\n",
    "- **pr** : 55.17% de valeurs manquantes.\n",
    "- **v1** : 99.37% de valeurs manquantes.\n",
    "- **v2** : 96.49% de valeurs manquantes."
   ],
   "metadata": {
    "collapsed": false
   },
   "id": "4a0f2e317e482b92"
  },
  {
   "cell_type": "code",
   "outputs": [],
   "source": [
    "col_to_drop_2015 = ['v1', 'v2', 'pr', 'pr1', 'gps', 'lat', 'long']\n",
    "\n",
    "test_data_filtered_2015 = test_data_2015.drop(columns=col_to_drop_2015, inplace=False)\n",
    "train_data_filtered_2015 = train_data_2015.drop(columns=col_to_drop_2015, inplace=False)"
   ],
   "metadata": {
    "collapsed": false,
    "ExecuteTime": {
     "end_time": "2024-04-16T18:37:57.900409800Z",
     "start_time": "2024-04-16T18:37:57.863641Z"
    }
   },
   "id": "5bf3c4f53571c4b",
   "execution_count": 17
  },
  {
   "cell_type": "markdown",
   "source": [
    "### 2016"
   ],
   "metadata": {
    "collapsed": false
   },
   "id": "5cb8623d35a4ba58"
  },
  {
   "cell_type": "code",
   "outputs": [
    {
     "name": "stdout",
     "output_type": "stream",
     "text": [
      "*******\n",
      "TEST\n",
      "- v1: 99.41%.\n",
      "TRAIN\n",
      "- v1: 99.24%.\n",
      "\n",
      "*******\n",
      "TEST\n",
      "- v2: 96.19%.\n",
      "TRAIN\n",
      "- v2: 96.40%.\n",
      "\n",
      "*******\n",
      "TEST\n",
      "- pr: 56.13%.\n",
      "TRAIN\n",
      "- pr: 55.30%.\n",
      "\n",
      "*******\n",
      "TEST\n",
      "- pr1: 56.02%.\n",
      "TRAIN\n",
      "- pr1: 55.37%.\n",
      "\n",
      "*******\n",
      "TEST\n",
      "- lat: 22.48%.\n",
      "TRAIN\n",
      "- lat: 21.43%.\n",
      "\n",
      "*******\n",
      "TEST\n",
      "- long: 22.48%.\n",
      "TRAIN\n",
      "- long: 21.43%.\n",
      "\n",
      "*******\n",
      "TEST\n",
      "- gps: 21.46%.\n",
      "TRAIN\n",
      "- gps: 20.37%.\n",
      "\n",
      "*******\n",
      "TEST\n",
      "- voie: 17.10%.\n",
      "TRAIN\n",
      "- voie: 16.40%.\n",
      "\n",
      "*******\n",
      "TEST\n",
      "- adr: 15.65%.\n",
      "TRAIN\n",
      "- adr: 16.39%.\n",
      "\n",
      "*******\n",
      "TEST\n",
      "- place: 8.59%.\n",
      "TRAIN\n",
      "- place: 8.90%.\n",
      "\n",
      "*******\n",
      "TEST\n",
      "- secu: 6.73%.\n",
      "TRAIN\n",
      "- secu: 7.05%.\n"
     ]
    }
   ],
   "source": [
    "display_info(test_data_2016, train_data_2016)"
   ],
   "metadata": {
    "collapsed": false,
    "ExecuteTime": {
     "end_time": "2024-04-16T18:37:58.139883500Z",
     "start_time": "2024-04-16T18:37:57.886467500Z"
    }
   },
   "id": "5588432cbc4e1fdd",
   "execution_count": 18
  },
  {
   "cell_type": "markdown",
   "source": [
    "Les features qui contiennent trop peu de variables et qui malgré une imputation ne saurait être pertinente, car l'imputation biaiserait les données sont :\n",
    "- **long** : 22.48% de valeurs manquantes.\n",
    "- **lat** : 22.48% de valeurs manquantes.\n",
    "- **pr1** : 56.02% de valeurs manquantes.\n",
    "- **pr** : 52.10% de valeurs manquantes.\n",
    "- **v1** : 99.41% de valeurs manquantes.\n",
    "- **v2** : 96.19% de valeurs manquantes."
   ],
   "metadata": {
    "collapsed": false
   },
   "id": "4593cf89c25c109"
  },
  {
   "cell_type": "code",
   "outputs": [],
   "source": [
    "col_to_drop_2016 = ['v1', 'v2', 'pr', 'pr1', 'lat', 'long']\n",
    "\n",
    "test_data_filtered_2016 = test_data_2016.drop(columns=col_to_drop_2016, inplace=False)\n",
    "train_data_filtered_2016 = train_data_2016.drop(columns=col_to_drop_2016, inplace=False)"
   ],
   "metadata": {
    "collapsed": false,
    "ExecuteTime": {
     "end_time": "2024-04-16T18:37:58.185336Z",
     "start_time": "2024-04-16T18:37:58.111594500Z"
    }
   },
   "id": "fad97e4a2bda7c2a",
   "execution_count": 19
  },
  {
   "cell_type": "markdown",
   "source": [
    "### 2017"
   ],
   "metadata": {
    "collapsed": false
   },
   "id": "f842ce6903c64cbd"
  },
  {
   "cell_type": "code",
   "outputs": [
    {
     "name": "stdout",
     "output_type": "stream",
     "text": [
      "*******\n",
      "TEST\n",
      "- v1: 99.34%.\n",
      "TRAIN\n",
      "- v1: 99.36%.\n",
      "\n",
      "*******\n",
      "TEST\n",
      "- v2: 96.24%.\n",
      "TRAIN\n",
      "- v2: 95.21%.\n",
      "\n",
      "*******\n",
      "TEST\n",
      "- pr1: 54.82%.\n",
      "TRAIN\n",
      "- pr1: 54.17%.\n",
      "\n",
      "*******\n",
      "TEST\n",
      "- pr: 54.40%.\n",
      "TRAIN\n",
      "- pr: 53.81%.\n",
      "\n",
      "*******\n",
      "TEST\n",
      "- voie: 15.78%.\n",
      "TRAIN\n",
      "- voie: 14.83%.\n",
      "\n",
      "*******\n",
      "TEST\n",
      "- lat: 13.76%.\n",
      "TRAIN\n",
      "- lat: 13.20%.\n",
      "\n",
      "*******\n",
      "TEST\n",
      "- long: 13.76%.\n",
      "TRAIN\n",
      "- long: 13.20%.\n",
      "\n",
      "*******\n",
      "TEST\n",
      "- place: 8.78%.\n",
      "TRAIN\n",
      "- place: 8.67%.\n",
      "\n",
      "*******\n",
      "TEST\n",
      "- gps: 7.66%.\n",
      "TRAIN\n",
      "- gps: 7.48%.\n",
      "\n",
      "*******\n",
      "TEST\n",
      "- secu: 6.72%.\n",
      "TRAIN\n",
      "- secu: 6.56%.\n",
      "\n",
      "*******\n",
      "TEST\n",
      "- infra: 6.33%.\n",
      "TRAIN\n",
      "- infra: 6.34%.\n",
      "\n",
      "*******\n",
      "TEST\n",
      "- env1: 6.27%.\n",
      "TRAIN\n",
      "- env1: 6.45%.\n",
      "\n",
      "*******\n",
      "TEST\n",
      "- situ: 6.01%.\n",
      "TRAIN\n",
      "- situ: 6.03%.\n"
     ]
    }
   ],
   "source": [
    "display_info(test_data_2017, train_data_2017)"
   ],
   "metadata": {
    "collapsed": false,
    "ExecuteTime": {
     "end_time": "2024-04-16T18:37:58.509470600Z",
     "start_time": "2024-04-16T18:37:58.140881800Z"
    }
   },
   "id": "6b9860339b781433",
   "execution_count": 20
  },
  {
   "cell_type": "markdown",
   "source": [
    "Les features qui contiennent trop peu de variables et qui malgré une imputation ne saurait être pertinente, car l'imputation biaiserait les données sont :\n",
    "- **pr1** : 54.82% de valeurs manquantes.\n",
    "- **pr** : 54.40% de valeurs manquantes.\n",
    "- **v1** : 99.34% de valeurs manquantes.\n",
    "- **v2** : 96.24% de valeurs manquantes."
   ],
   "metadata": {
    "collapsed": false
   },
   "id": "eecaca6ac254fd4f"
  },
  {
   "cell_type": "code",
   "outputs": [],
   "source": [
    "col_to_drop_2017 = ['v1', 'v2', 'pr', 'pr1']\n",
    "\n",
    "test_data_filtered_2017 = test_data_2017.drop(columns=col_to_drop_2017, inplace=False)\n",
    "train_data_filtered_2017 = train_data_2017.drop(columns=col_to_drop_2017, inplace=False)"
   ],
   "metadata": {
    "collapsed": false,
    "ExecuteTime": {
     "end_time": "2024-04-16T18:37:58.511518100Z",
     "start_time": "2024-04-16T18:37:58.384080Z"
    }
   },
   "id": "aa883cfccd7dc46",
   "execution_count": 21
  },
  {
   "cell_type": "markdown",
   "source": [
    "### 2018"
   ],
   "metadata": {
    "collapsed": false
   },
   "id": "d133d008ecc0fac8"
  },
  {
   "cell_type": "code",
   "outputs": [
    {
     "name": "stdout",
     "output_type": "stream",
     "text": [
      "*******\n",
      "TEST\n",
      "- v1: 99.71%.\n",
      "TRAIN\n",
      "- v1: 99.73%.\n",
      "\n",
      "*******\n",
      "TEST\n",
      "- v2: 96.35%.\n",
      "TRAIN\n",
      "- v2: 95.33%.\n",
      "\n",
      "*******\n",
      "TEST\n",
      "- lartpc: 78.40%.\n",
      "TRAIN\n",
      "- lartpc: 77.89%.\n",
      "\n",
      "*******\n",
      "TEST\n",
      "- larrout: 77.96%.\n",
      "TRAIN\n",
      "- larrout: 77.13%.\n",
      "\n",
      "*******\n",
      "TEST\n",
      "- locp: 43.34%.\n",
      "TRAIN\n",
      "- locp: 41.83%.\n",
      "\n",
      "*******\n",
      "TEST\n",
      "- etatp: 43.34%.\n",
      "TRAIN\n",
      "- etatp: 41.83%.\n",
      "\n",
      "*******\n",
      "TEST\n",
      "- actp: 43.34%.\n",
      "TRAIN\n",
      "- actp: 41.83%.\n",
      "\n",
      "*******\n",
      "TEST\n",
      "- voie: 36.47%.\n",
      "TRAIN\n",
      "- voie: 35.58%.\n",
      "\n",
      "*******\n",
      "TEST\n",
      "- pr1: 24.65%.\n",
      "TRAIN\n",
      "- pr1: 26.26%.\n",
      "\n",
      "*******\n",
      "TEST\n",
      "- pr: 24.21%.\n",
      "TRAIN\n",
      "- pr: 25.79%.\n",
      "\n",
      "*******\n",
      "TEST\n",
      "- place: 8.73%.\n",
      "TRAIN\n",
      "- place: 8.39%.\n"
     ]
    }
   ],
   "source": [
    "display_info(test_data_2018, train_data_2018)"
   ],
   "metadata": {
    "collapsed": false,
    "ExecuteTime": {
     "end_time": "2024-04-16T18:37:58.745621700Z",
     "start_time": "2024-04-16T18:37:58.410768200Z"
    }
   },
   "id": "6757112b17413204",
   "execution_count": 22
  },
  {
   "cell_type": "markdown",
   "source": [
    "Les features qui contiennent trop peu de variables et qui malgré une imputation ne saurait être pertinente, car l'imputation biaiserait les données sont :\n",
    "- **lartpc** : 78.40% de valeurs manquantes.\n",
    "- **larrout** : 77.96% de valeurs manquantes.\n",
    "- **locp** : 43.34% de valeurs manquantes.\n",
    "- **etatp** : 43.34% de valeurs manquantes. \n",
    "- **actp** : 43.34% de valeurs manquantes. \n",
    "- **voie** : 36.47% de valeurs manquantes. \n",
    "- **v1** : 99.71% de valeurs manquantes.\n",
    "- **v2** : 96.35% de valeurs manquantes."
   ],
   "metadata": {
    "collapsed": false
   },
   "id": "1c8544b85f7fdaa"
  },
  {
   "cell_type": "code",
   "outputs": [],
   "source": [
    "col_to_drop_2018 = ['v1', 'v2', 'voie', 'actp', 'etatp', 'locp', 'larrout', 'lartpc']\n",
    "\n",
    "test_data_filtered_2018 = test_data_2018.drop(columns=col_to_drop_2018, inplace=False)\n",
    "train_data_filtered_2018 = train_data_2018.drop(columns=col_to_drop_2018, inplace=False)"
   ],
   "metadata": {
    "collapsed": false,
    "ExecuteTime": {
     "end_time": "2024-04-16T18:37:58.789207600Z",
     "start_time": "2024-04-16T18:37:58.645011500Z"
    }
   },
   "id": "ab0815acba70911c",
   "execution_count": 23
  },
  {
   "cell_type": "markdown",
   "source": [
    "### 2019"
   ],
   "metadata": {
    "collapsed": false
   },
   "id": "428a0eaff14be18c"
  },
  {
   "cell_type": "code",
   "outputs": [
    {
     "name": "stdout",
     "output_type": "stream",
     "text": [
      "*******\n",
      "TEST\n",
      "- id_usager: 100.00%.\n",
      "TRAIN\n",
      "- id_usager: 100.00%.\n",
      "\n",
      "*******\n",
      "TEST\n",
      "- lartpc: 99.55%.\n",
      "TRAIN\n",
      "- lartpc: 99.66%.\n",
      "\n",
      "*******\n",
      "TEST\n",
      "- larrout: 99.29%.\n",
      "TRAIN\n",
      "- larrout: 99.38%.\n",
      "\n",
      "*******\n",
      "TEST\n",
      "- occutc: 98.55%.\n",
      "TRAIN\n",
      "- occutc: 98.59%.\n",
      "\n",
      "*******\n",
      "TEST\n",
      "- v2: 92.75%.\n",
      "TRAIN\n",
      "- v2: 92.66%.\n",
      "\n",
      "*******\n",
      "TEST\n",
      "- v1: 18.59%.\n",
      "TRAIN\n",
      "- v1: 18.49%.\n"
     ]
    }
   ],
   "source": [
    "display_info(test_data_2019, train_data_2019)"
   ],
   "metadata": {
    "collapsed": false,
    "ExecuteTime": {
     "end_time": "2024-04-16T18:37:59.016001100Z",
     "start_time": "2024-04-16T18:37:58.670582900Z"
    }
   },
   "id": "7803046549b471fd",
   "execution_count": 24
  },
  {
   "cell_type": "markdown",
   "source": [
    "Les features qui contiennent trop peu de variables et qui malgré une imputation ne saurait être pertinente, car l'imputation biaiserait les données sont :\n",
    "- **id_usager** : 100.00% de valeurs manquantes.\n",
    "- **lartpc** : 99.55% de valeurs manquantes.\n",
    "- **larrout** : 99.29% de valeurs manquantes.\n",
    "- **occutc** : 98.55% de valeurs manquantes.\n",
    "- **v2** : 92.75% de valeurs manquantes."
   ],
   "metadata": {
    "collapsed": false
   },
   "id": "8638f8c60363984f"
  },
  {
   "cell_type": "code",
   "outputs": [],
   "source": [
    "col_to_drop_2019 = ['id_usager', 'lartpc', 'larrout', 'occutc', 'v2']\n",
    "\n",
    "test_data_filtered_2019 = test_data_2019.drop(columns=col_to_drop_2019, inplace=False)\n",
    "train_data_filtered_2019 = train_data_2019.drop(columns=col_to_drop_2019, inplace=False)"
   ],
   "metadata": {
    "collapsed": false,
    "ExecuteTime": {
     "end_time": "2024-04-16T18:37:59.070224100Z",
     "start_time": "2024-04-16T18:37:58.991858100Z"
    }
   },
   "id": "d0ece7ca382b45f",
   "execution_count": 25
  },
  {
   "cell_type": "markdown",
   "source": [
    "### 2020"
   ],
   "metadata": {
    "collapsed": false
   },
   "id": "f91a46ead36b19d4"
  },
  {
   "cell_type": "code",
   "outputs": [
    {
     "name": "stdout",
     "output_type": "stream",
     "text": [
      "*******\n",
      "TEST\n",
      "- id_usager: 100.00%.\n",
      "TRAIN\n",
      "- id_usager: 100.00%.\n",
      "\n",
      "*******\n",
      "TEST\n",
      "- lartpc: 99.81%.\n",
      "TRAIN\n",
      "- lartpc: 99.70%.\n",
      "\n",
      "*******\n",
      "TEST\n",
      "- occutc: 98.87%.\n",
      "TRAIN\n",
      "- occutc: 98.88%.\n",
      "\n",
      "*******\n",
      "TEST\n",
      "- v2: 93.85%.\n",
      "TRAIN\n",
      "- v2: 93.69%.\n",
      "\n",
      "*******\n",
      "TEST\n",
      "- voie: 21.78%.\n",
      "TRAIN\n",
      "- voie: 21.38%.\n"
     ]
    }
   ],
   "source": [
    "display_info(test_data_2020, train_data_2020)"
   ],
   "metadata": {
    "collapsed": false,
    "ExecuteTime": {
     "end_time": "2024-04-16T18:37:59.276130100Z",
     "start_time": "2024-04-16T18:37:59.025314900Z"
    }
   },
   "id": "4f2970b78a5705b6",
   "execution_count": 26
  },
  {
   "cell_type": "markdown",
   "source": [
    "Les features qui contiennent trop peu de variables et qui malgré une imputation ne saurait être pertinente, car l'imputation biaiserait les données sont :\n",
    "- **id_usager** : 100.00% de valeurs manquantes.\n",
    "- **lartpc** : 99.81% de valeurs manquantes.\n",
    "- **occutc** : 98.87% de valeurs manquantes.\n",
    "- **v2** : 93.85% de valeurs manquantes."
   ],
   "metadata": {
    "collapsed": false
   },
   "id": "cf76f4a93c42b3d7"
  },
  {
   "cell_type": "code",
   "outputs": [],
   "source": [
    "col_to_drop_2020 = ['id_usager', 'lartpc', 'occutc', 'v2']\n",
    "\n",
    "test_data_filtered_2020 = test_data_2020.drop(columns=col_to_drop_2020, inplace=False)\n",
    "train_data_filtered_2020 = train_data_2020.drop(columns=col_to_drop_2020, inplace=False)"
   ],
   "metadata": {
    "collapsed": false,
    "ExecuteTime": {
     "end_time": "2024-04-16T18:37:59.340680300Z",
     "start_time": "2024-04-16T18:37:59.266885300Z"
    }
   },
   "id": "222b1b8272fa0733",
   "execution_count": 27
  },
  {
   "cell_type": "markdown",
   "source": [
    "### 2021"
   ],
   "metadata": {
    "collapsed": false
   },
   "id": "96707dad9b73a302"
  },
  {
   "cell_type": "code",
   "outputs": [
    {
     "name": "stdout",
     "output_type": "stream",
     "text": [
      "*******\n",
      "TEST\n",
      "- lartpc: 99.80%.\n",
      "TRAIN\n",
      "- lartpc: 99.81%.\n",
      "\n",
      "*******\n",
      "TEST\n",
      "- occutc: 98.84%.\n",
      "TRAIN\n",
      "- occutc: 98.94%.\n",
      "\n",
      "*******\n",
      "TEST\n",
      "- v2: 90.47%.\n",
      "TRAIN\n",
      "- v2: 91.36%.\n",
      "\n",
      "*******\n",
      "TEST\n",
      "- voie: 6.99%.\n",
      "TRAIN\n",
      "- voie: 7.14%.\n"
     ]
    }
   ],
   "source": [
    "display_info(test_data_2021, train_data_2021)"
   ],
   "metadata": {
    "collapsed": false,
    "ExecuteTime": {
     "end_time": "2024-04-16T18:37:59.663140600Z",
     "start_time": "2024-04-16T18:37:59.304722400Z"
    }
   },
   "id": "3736fc106814de88",
   "execution_count": 28
  },
  {
   "cell_type": "markdown",
   "source": [
    "Les features qui contiennent trop peu de variables et qui malgré une imputation ne saurait être pertinente, car l'imputation biaiserait les données sont :\n",
    "- **lartpc** : 99.80% de valeurs manquantes.\n",
    "- **occutc** : 98.84% de valeurs manquantes.\n",
    "- **v2** : 90.47% de valeurs manquantes."
   ],
   "metadata": {
    "collapsed": false
   },
   "id": "ea8ac351d364488a"
  },
  {
   "cell_type": "code",
   "outputs": [],
   "source": [
    "col_to_drop_2021 = ['id_usager', 'lartpc', 'occutc', 'v2']\n",
    "\n",
    "test_data_filtered_2021 = test_data_2021.drop(columns=col_to_drop_2021, inplace=False)\n",
    "train_data_filtered_2021 = train_data_2021.drop(columns=col_to_drop_2021, inplace=False)"
   ],
   "metadata": {
    "collapsed": false,
    "ExecuteTime": {
     "end_time": "2024-04-16T18:37:59.706383100Z",
     "start_time": "2024-04-16T18:37:59.664139500Z"
    }
   },
   "id": "7a5c6fac74ef8ae6",
   "execution_count": 29
  },
  {
   "cell_type": "markdown",
   "source": [
    "### 2022"
   ],
   "metadata": {
    "collapsed": false
   },
   "id": "810fb05266290ccd"
  },
  {
   "cell_type": "code",
   "outputs": [
    {
     "name": "stdout",
     "output_type": "stream",
     "text": [
      "*******\n",
      "TEST\n",
      "- lartpc: 99.91%.\n",
      "TRAIN\n",
      "- lartpc: 99.95%.\n",
      "\n",
      "*******\n",
      "TEST\n",
      "- occutc: 98.38%.\n",
      "TRAIN\n",
      "- occutc: 98.63%.\n",
      "\n",
      "*******\n",
      "TEST\n",
      "- v2: 90.71%.\n",
      "TRAIN\n",
      "- v2: 90.60%.\n",
      "\n",
      "*******\n",
      "TEST\n",
      "- voie: 8.06%.\n",
      "TRAIN\n",
      "- voie: 7.78%.\n"
     ]
    }
   ],
   "source": [
    "display_info(test_data_2022, train_data_2022)"
   ],
   "metadata": {
    "collapsed": false,
    "ExecuteTime": {
     "end_time": "2024-04-16T18:38:00.054226500Z",
     "start_time": "2024-04-16T18:37:59.704340900Z"
    }
   },
   "id": "645481ad68e536b8",
   "execution_count": 30
  },
  {
   "cell_type": "markdown",
   "source": [
    "Les features qui contiennent trop peu de variables et qui malgré une imputation ne saurait être pertinente, car l'imputation biaiserait les données sont :\n",
    "- **lartpc** : 99.91% de valeurs manquantes.\n",
    "- **occutc** : 98.38% de valeurs manquantes.\n",
    "- **v2** : 90.71% de valeurs manquantes."
   ],
   "metadata": {
    "collapsed": false
   },
   "id": "e2b0635e020701b2"
  },
  {
   "cell_type": "code",
   "outputs": [],
   "source": [
    "col_to_drop_2022 = ['lartpc', 'occutc', 'v2']\n",
    "\n",
    "test_data_filtered_2022 = test_data_2022.drop(columns=col_to_drop_2022, inplace=False)\n",
    "train_data_filtered_2022 = train_data_2022.drop(columns=col_to_drop_2022, inplace=False)"
   ],
   "metadata": {
    "collapsed": false,
    "ExecuteTime": {
     "end_time": "2024-04-16T18:38:00.092618900Z",
     "start_time": "2024-04-16T18:37:59.994801700Z"
    }
   },
   "id": "df5e7e8e50ece793",
   "execution_count": 31
  },
  {
   "cell_type": "markdown",
   "source": [
    "# Disparité en fonction des années\n",
    "\n",
    "On observe si des colonnes sont présentes ou absentes en fonction des années. En fonction, il est possible de décliner un modèle pour plusieurs modèles afin d'exploiter aux mieux les données. Si dans certaines années la variable 'lartpc' est inexploitable par manque d'éléments, il se peut que dans d'autres années cette dernière soit exploitable. Ainsi, des clusters doivent être construits pour ensuite réaliser le feature engineering de chaque cluster.\n",
    "\n",
    "Afin de réaliser ce clustering, on peut souligner que les dataframes des train/test sets sont liés par un même traitement. Ainsi, il suffit de trouver parmi les dataframes de test les clusters."
   ],
   "metadata": {
    "collapsed": false
   },
   "id": "eb54488306c76bc9"
  },
  {
   "cell_type": "code",
   "outputs": [
    {
     "name": "stdout",
     "output_type": "stream",
     "text": [
      "Cluster 1: ['test_data_filtered_2012', 'test_data_filtered_2013', 'test_data_filtered_2014', 'test_data_filtered_2015']\n",
      "Cluster 2: ['test_data_filtered_2016']\n",
      "Cluster 3: ['test_data_filtered_2017']\n",
      "Cluster 4: ['test_data_filtered_2018']\n",
      "Cluster 5: ['test_data_filtered_2019']\n",
      "Cluster 6: ['test_data_filtered_2020', 'test_data_filtered_2021']\n",
      "Cluster 7: ['test_data_filtered_2022']\n",
      "Cluster 8: ['test_data_2012_2018']\n",
      "Cluster 9: ['test_data_2019_2022']\n"
     ]
    }
   ],
   "source": [
    "from collections import defaultdict\n",
    "\n",
    "list_all_test_df = [test_data_filtered_2012, test_data_filtered_2013, test_data_filtered_2014, test_data_filtered_2015, test_data_filtered_2016, \n",
    "    test_data_filtered_2017, test_data_filtered_2018, test_data_filtered_2019, test_data_filtered_2020, test_data_filtered_2021, test_data_filtered_2022, test_data_2012_2018, test_data_2019_2022]\n",
    "\n",
    "list_all_test_df_names = [\n",
    "    \"test_data_filtered_2012\", \"test_data_filtered_2013\", \"test_data_filtered_2014\", \"test_data_filtered_2015\", \"test_data_filtered_2016\", \"test_data_filtered_2017\",\n",
    "    \"test_data_filtered_2018\", \"test_data_filtered_2019\", \"test_data_filtered_2020\", \"test_data_filtered_2021\", \"test_data_filtered_2022\", \"test_data_2012_2018\",\n",
    "    \"test_data_2019_2022\"]\n",
    "\n",
    "clustered_dataframes = defaultdict(list)\n",
    "\n",
    "for df_name, df in zip(list_all_test_df_names, list_all_test_df):\n",
    "    columns_key = frozenset(df.columns)\n",
    "    clustered_dataframes[columns_key].append(df_name)\n",
    "\n",
    "list_clusters = list(clustered_dataframes.values())\n",
    "\n",
    "for i, cluster in enumerate(list_clusters, 1):\n",
    "    print(f\"Cluster {i}: {cluster}\")"
   ],
   "metadata": {
    "collapsed": false,
    "ExecuteTime": {
     "end_time": "2024-04-16T18:38:00.094654400Z",
     "start_time": "2024-04-16T18:38:00.028381200Z"
    }
   },
   "id": "cd9c5ccd1059caae",
   "execution_count": 32
  },
  {
   "cell_type": "markdown",
   "source": [
    "Ainsi, on observe les clusters suivants :\n",
    "- **2012/2013/2014/2015** : 44 variables.\n",
    "- **2020/2021** : 52 variables.\n",
    "- **2016** : 45 variables.\n",
    "- **2017** : 47 variables.\n",
    "- **2018** : 43 variables.\n",
    "- **2019** : 51 variables.\n",
    "- **2022** : 53 variables.\n",
    "- **2012 à 2018** : 51 variables.\n",
    "- **2019 à 2022** : 56 variables."
   ],
   "metadata": {
    "collapsed": false
   },
   "id": "f3649212bbbfc147"
  },
  {
   "cell_type": "markdown",
   "source": [
    "On décide de stocker individuellement tous les jeux de données par an (test_data_filtered_2012/train_data_filtered_2012, ...). On testera de construire un modèle par an étant donné que les deux jeux de données sont proportionnés équitablement. Dans un second temps, on sauvegarde des clusters de données, ainsi, il sera possible d'observer si la généralisation des données permettra une réduction de l'overfitting et une amélioration des performances, ou bien une réduction de la généralisation et une croissance de l'overfitting."
   ],
   "metadata": {
    "collapsed": false
   },
   "id": "ec5a116df813eac0"
  },
  {
   "cell_type": "code",
   "outputs": [],
   "source": [
    "for year in range(2012, 2023):\n",
    "    test_data_var_name = f\"test_data_filtered_{year}\"\n",
    "    train_data_var_name = f\"train_data_filtered_{year}\"\n",
    "    \n",
    "    if test_data_var_name in globals():\n",
    "        test_data = globals()[test_data_var_name]\n",
    "        test_data.to_csv(f\"Filtered_Data/TEST/DRAFT/{test_data_var_name}.csv\", index=False)\n",
    "        \n",
    "    if train_data_var_name in globals():\n",
    "        train_data = globals()[train_data_var_name]\n",
    "        train_data.to_csv(f\"Filtered_Data/TRAIN/DRAFT/{train_data_var_name}.csv\", index=False)"
   ],
   "metadata": {
    "collapsed": false,
    "ExecuteTime": {
     "end_time": "2024-04-16T18:38:27.117314300Z",
     "start_time": "2024-04-16T18:38:00.037972700Z"
    }
   },
   "id": "cd3e85ce51a77a10",
   "execution_count": 33
  },
  {
   "cell_type": "code",
   "outputs": [],
   "source": [
    "# TRAIN 2012/2013/2014/2015\n",
    "concatenated_df = pd.concat([train_data_filtered_2012, train_data_filtered_2013, train_data_filtered_2014, train_data_filtered_2015], ignore_index=True)\n",
    "concatenated_df.to_csv(\"Filtered_Data/TRAIN/DRAFT/train_data_filtered_2012_13_14_15.csv\", index=False)\n",
    "\n",
    "# TRAIN 2020/2021\n",
    "concatenated_df = pd.concat([train_data_filtered_2020, train_data_filtered_2021], ignore_index=True)\n",
    "concatenated_df.to_csv(\"Filtered_Data/TRAIN/DRAFT/train_data_filtered_2020_21.csv\", index=False)\n",
    "\n",
    "# TRAIN 2012-2018 & 2019-2022\n",
    "train_data_2012_2018.to_csv(\"Filtered_Data/TRAIN/DRAFT/train_data_filtered_2012_2018.csv\", index=False)\n",
    "train_data_2019_2022.to_csv(\"Filtered_Data/TRAIN/DRAFT/train_data_filtered_2019_2022.csv\", index=False)\n",
    "\n",
    "# TEST 2012/2013/2014/2015\n",
    "concatenated_df = pd.concat([test_data_filtered_2012, test_data_filtered_2013, test_data_filtered_2014, test_data_filtered_2015], ignore_index=True)\n",
    "concatenated_df.to_csv(\"Filtered_Data/TEST/DRAFT/test_data_filtered_2012_13_14_15.csv\", index=False)\n",
    "\n",
    "# TEST 2020/2021\n",
    "concatenated_df = pd.concat([test_data_filtered_2020, test_data_filtered_2021], ignore_index=True)\n",
    "concatenated_df.to_csv(\"Filtered_Data/TEST/DRAFT/test_data_filtered_2020_21.csv\", index=False)\n",
    "\n",
    "# TEST 2012-2018 & 2019-2022\n",
    "test_data_2012_2018.to_csv(\"Filtered_Data/TEST/DRAFT/test_data_filtered_2012_2018.csv\", index=False)\n",
    "test_data_2019_2022.to_csv(\"Filtered_Data/TEST/DRAFT/test_data_filtered_2019_2022.csv\", index=False)"
   ],
   "metadata": {
    "collapsed": false,
    "ExecuteTime": {
     "end_time": "2024-04-16T18:46:41.705489400Z",
     "start_time": "2024-04-16T18:45:58.018657700Z"
    }
   },
   "id": "6a04f476afdc1c36",
   "execution_count": 35
  }
 ],
 "metadata": {
  "kernelspec": {
   "display_name": "Python 3",
   "language": "python",
   "name": "python3"
  },
  "language_info": {
   "codemirror_mode": {
    "name": "ipython",
    "version": 2
   },
   "file_extension": ".py",
   "mimetype": "text/x-python",
   "name": "python",
   "nbconvert_exporter": "python",
   "pygments_lexer": "ipython2",
   "version": "2.7.6"
  }
 },
 "nbformat": 4,
 "nbformat_minor": 5
}
