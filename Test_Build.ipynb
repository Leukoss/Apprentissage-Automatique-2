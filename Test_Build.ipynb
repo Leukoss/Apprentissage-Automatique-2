{
 "cells": [
  {
   "cell_type": "markdown",
   "source": [
    "# Création du fichier de test complet\n",
    "\n",
    "## Packages"
   ],
   "metadata": {
    "collapsed": false
   },
   "id": "6bacb3b4569f6e9d"
  },
  {
   "cell_type": "code",
   "outputs": [],
   "source": [
    "import pandas as pd             # Traitement des tableaux de données "
   ],
   "metadata": {
    "collapsed": false,
    "ExecuteTime": {
     "end_time": "2024-04-14T23:10:29.579416900Z",
     "start_time": "2024-04-14T23:10:29.572794800Z"
    }
   },
   "id": "b5a978f2862806fc",
   "execution_count": 40
  },
  {
   "cell_type": "markdown",
   "source": [
    "## Chargement des données"
   ],
   "metadata": {
    "collapsed": false
   },
   "id": "d5c3c6e398f1daca"
  },
  {
   "cell_type": "markdown",
   "source": [
    "Dans un premier temps, l'objectif est de récupérer le fichier complet puis de ne conserver que les variables présentes au sein du fichier d'entraînement (et bien entendu la variable 'Num_Acc' qui servira de repère). 4 fichiers composent le test set. Ainsi, il faudra itérer pour récupérer l'ensemble des données :"
   ],
   "metadata": {
    "collapsed": false
   },
   "id": "9d3f0a9c36dca0bd"
  },
  {
   "cell_type": "code",
   "outputs": [],
   "source": [
    "files = ['USAGERS', 'VEHICULES', 'CARACTERISTIQUES', 'LIEUX',]\n",
    "data_path = 'Data/TEST/TEST/'\n",
    "\n",
    "full_data = pd.DataFrame()\n",
    "\n",
    "for file_name in files: \n",
    "    path_to_file = data_path + file_name + '.csv'\n",
    "    \n",
    "    data = pd.read_csv(path_to_file, encoding=\"latin1\", sep=\",\", low_memory=False)\n",
    "    \n",
    "    if file_name == 'USAGERS':\n",
    "        full_data = pd.concat([full_data, data], axis=1)\n",
    "    else:\n",
    "        if file_name == 'VEHICULES':\n",
    "            full_data = pd.merge(full_data, data, on=['Num_Acc', 'num_veh'], how='left')\n",
    "        else:\n",
    "            full_data = pd.merge(full_data, data, on=['Num_Acc'], how='left')"
   ],
   "metadata": {
    "collapsed": false,
    "ExecuteTime": {
     "end_time": "2024-04-14T20:36:44.030486300Z",
     "start_time": "2024-04-14T20:36:42.551115100Z"
    }
   },
   "id": "5d18db5c39f6411b",
   "execution_count": 2
  },
  {
   "cell_type": "code",
   "outputs": [
    {
     "name": "stdout",
     "output_type": "stream",
     "text": [
      "Le nombre d'observations initial est de : 142422\n",
      "Le nombre de variables initial est de : 58\n"
     ]
    }
   ],
   "source": [
    "initial_row = full_data.shape[0]\n",
    "initial_col = full_data.shape[1]\n",
    "\n",
    "print(f\"Le nombre d'observations initial est de : {initial_row}\")\n",
    "print(f\"Le nombre de variables initial est de : {initial_col}\")"
   ],
   "metadata": {
    "collapsed": false,
    "ExecuteTime": {
     "end_time": "2024-04-14T20:36:45.394288600Z",
     "start_time": "2024-04-14T20:36:45.381371300Z"
    }
   },
   "id": "b4d7a43c385660b2",
   "execution_count": 3
  },
  {
   "cell_type": "markdown",
   "source": [
    "On récupère en tout **'*142 422*'** observations. Cela comprend tous les accidentés pour tous les accidents. Ainsi, lors de la soumission, il faudra fournir la moyenne (par défaut) pour chaque accident."
   ],
   "metadata": {
    "collapsed": false
   },
   "id": "74a56ace4323007"
  },
  {
   "cell_type": "code",
   "outputs": [],
   "source": [
    "full_data.to_csv('Filtered_Data/TEST/Full_Test_Data_Initial.csv', index=False)"
   ],
   "metadata": {
    "collapsed": false,
    "ExecuteTime": {
     "end_time": "2024-04-14T20:37:17.686697600Z",
     "start_time": "2024-04-14T20:37:13.746819700Z"
    }
   },
   "id": "391dff2e6004e419",
   "execution_count": 4
  },
  {
   "cell_type": "markdown",
   "source": [
    "Désormais, nous disposons d'un **\"*.csv*\"** de grandes amplitudes. La première étape avant de pouvoir utiliser ce jeu de données en tant que jeu de test, est de conserver uniquement les variables présentent au sein du train set."
   ],
   "metadata": {
    "collapsed": false
   },
   "id": "689e664d13adf0ad"
  },
  {
   "cell_type": "markdown",
   "source": [
    "## Sélection des variables et Harmonisation des données"
   ],
   "metadata": {
    "collapsed": false
   },
   "id": "e7378eeb6060c3b1"
  },
  {
   "cell_type": "markdown",
   "source": [
    "### Fonctions utiles"
   ],
   "metadata": {
    "collapsed": false
   },
   "id": "efb0542513f9ca8f"
  },
  {
   "cell_type": "code",
   "outputs": [],
   "source": [
    "def delete_columns(list_col: list[str], data_frame: pd.DataFrame) -> None:\n",
    "    \"\"\"\n",
    "    Delete the selected columns from the data frame\n",
    "    :param list_col: list of columns in the dataframe to delete\n",
    "    :param data_frame: dataframe where the deletion is applied\n",
    "    \"\"\"\n",
    "    for col in list_col:\n",
    "        if col in data_frame.columns:\n",
    "            data_frame.drop(labels=[col], axis=1, inplace=True)\n",
    "            \n",
    "def process_secu(value: int) -> int:\n",
    "    \"\"\"\n",
    "    Process the conversion from a 2 digits integer to 1 digits integer\n",
    "    :param value: to be converted\n",
    "    :return: only the digit associated with the security element (or 8 if nothing used)\n",
    "    \"\"\"\n",
    "    value_str = str(value)\n",
    "    if len(value_str) >= 2 and value_str[1] == '1':\n",
    "        return int(value_str[0])\n",
    "    else:\n",
    "        return pd.NA\n",
    "    \n",
    "def convert_to_int(time_str: str) -> int:\n",
    "    \"\"\"\n",
    "    Convert the string time in an integer value to allow intervals implementation\n",
    "    :param time_str: 'XX:XX', 'X:XX', 'XXX', 'X', X, XXX, ...\n",
    "    :return: an integer of the time according to the time format XX(hours)XX(minutes)\n",
    "    \"\"\"\n",
    "    if isinstance(time_str, str):\n",
    "        if ':' in time_str:\n",
    "            hours, minutes = map(int, time_str.split(':'))\n",
    "            return hours * 100 + minutes\n",
    "        else:\n",
    "            return int(time_str)\n",
    "    else:\n",
    "        return time_str\n",
    "    \n",
    "def generate_intervals(start, end, step) -> list[int]:\n",
    "    \"\"\"\n",
    "    Generate the intervals from the start to the end value by step\n",
    "    :param start: first value in the interval\n",
    "    :param end: last value in the interval\n",
    "    :param step: range between two categories\n",
    "    :return: list of intervals\n",
    "    \"\"\"\n",
    "    list_cat = []\n",
    "    for i in range(start, end, step):\n",
    "        list_cat.append((i, i + step))\n",
    "    return list_cat\n",
    "\n",
    "def map_to_simple_value(value: int, list_cat: list[int]) -> int:\n",
    "    \"\"\"\n",
    "    Function to map values to simple values based on intervals\n",
    "    :param list_cat: list of the intervals\n",
    "    :param value: value to map\n",
    "    :return: mapped value\n",
    "    \"\"\"\n",
    "    for i, interval in enumerate(list_cat):\n",
    "        if interval[0] <= value < interval[1]:\n",
    "            return simple_values[i]\n",
    "    return None  \n",
    "\n",
    "def clean_dep(dep: str) -> str:\n",
    "    \"\"\"\n",
    "    Format the string of the department\n",
    "    :param dep: French department\n",
    "    :return: formatted string of the department\n",
    "    \"\"\"\n",
    "    dep = str(dep)\n",
    "    dep = dep.lstrip('0')\n",
    "    if len(dep) == 3 and dep.endswith('0'):\n",
    "        dep = dep[:-1]\n",
    "    if dep in {'201', '202'}:\n",
    "        dep = {'201': '2A', '202': '2B'}[dep]\n",
    "    return dep\n",
    "    \n",
    "def convert_float_to_int(data_frame: pd.DataFrame, col_name: str) -> None:\n",
    "    \"\"\"\n",
    "    Convert the column type in the related dataframe from float to int\n",
    "    :param data_frame: dataframe where the column must be\n",
    "    :param col_name: column to parse\n",
    "    \"\"\"\n",
    "    data_frame[col_name] = data_frame[col_name].astype(int)"
   ],
   "metadata": {
    "collapsed": false,
    "ExecuteTime": {
     "end_time": "2024-04-14T23:10:35.937135700Z",
     "start_time": "2024-04-14T23:10:35.926098200Z"
    }
   },
   "id": "eccb95b3bbe698db",
   "execution_count": 41
  },
  {
   "cell_type": "code",
   "outputs": [],
   "source": [
    "test_data = pd.read_csv('Filtered_Data/TEST/Full_Test_Data_Initial.csv', sep=',', low_memory=False)\n",
    "train_data = pd.read_csv('Filtered_Data/TRAIN/Filtered_Train_Data_V4_to_V4.csv', sep=',', low_memory=False)"
   ],
   "metadata": {
    "collapsed": false,
    "ExecuteTime": {
     "end_time": "2024-04-14T21:46:47.499233500Z",
     "start_time": "2024-04-14T21:46:44.237806600Z"
    }
   },
   "id": "3d0c2d2f32322e70",
   "execution_count": 107
  },
  {
   "cell_type": "markdown",
   "source": [
    "#### Usagers\n",
    "\n",
    "Deux nuances sont apportées, on conserve la variable **'*Num_Acc*'** et on supprime le traitement d'une colonne inexistante **'*grav*'**. "
   ],
   "metadata": {
    "collapsed": false
   },
   "id": "f0ef9d74d4c7ac99"
  },
  {
   "cell_type": "code",
   "outputs": [],
   "source": [
    "# Suppression des colonnes \n",
    "col_to_drop_usagers = ['id_vehicule_x', 'id_vehicule_y', 'num_veh', 'an_nais', 'locp', 'etatp', 'secu2', 'secu3', 'actp', 'id_usager']\n",
    "delete_columns(col_to_drop_usagers, test_data)\n",
    "\n",
    "# test_data['sexe']\n",
    "test_data = test_data.replace({'sexe' : {2: 0, -1 : pd.NA}})\n",
    "\n",
    "# test_data['trajet']\n",
    "test_data = test_data.replace({'trajet': {-1: pd.NA, 0: pd.NA}})\n",
    "\n",
    "# test_data['catu']\n",
    "test_data.loc[test_data['catu'] == 4, 'catv'] = 99\n",
    "test_data['catu'] = test_data['catu'].replace({4: 3})\n",
    "\n",
    "# test_data['place']\n",
    "test_data.loc[test_data['catu'] == 3, 'place'] = 10\n",
    "test_data['place'] = test_data['place'].replace({-1: pd.NA}).fillna(pd.NA)\n",
    "\n",
    "# test_data['secu', 'secu1']\n",
    "test_data['secu'] = test_data['secu'].apply(process_secu)\n",
    "test_data['secu'] = test_data['secu'].fillna(test_data['secu1'].replace([-1], pd.NA))\n",
    "delete_columns(['secu1'], test_data)"
   ],
   "metadata": {
    "collapsed": false,
    "ExecuteTime": {
     "end_time": "2024-04-14T21:46:48.247659700Z",
     "start_time": "2024-04-14T21:46:47.489110300Z"
    }
   },
   "id": "81006e162f93801f",
   "execution_count": 108
  },
  {
   "cell_type": "markdown",
   "source": [
    "Nous nous penchons sur les changements des dimensions entre les deux jeux de données (initial/post-usagers) :"
   ],
   "metadata": {
    "collapsed": false
   },
   "id": "f7ae52a64a0c6736"
  },
  {
   "cell_type": "code",
   "outputs": [
    {
     "name": "stdout",
     "output_type": "stream",
     "text": [
      "Le nombre d'observations initial est de : 142422 (différence de : 0 lignes).\n",
      "Le nombre de variables initial est de : 47 (différence de : 11 variables).\n"
     ]
    }
   ],
   "source": [
    "post_usagers_row = test_data.shape[0]\n",
    "post_usagers_col = test_data.shape[1]\n",
    "\n",
    "print(f\"Le nombre d'observations initial est de : {post_usagers_row} (différence de : {initial_row - post_usagers_row} lignes).\")\n",
    "print(f\"Le nombre de variables initial est de : {post_usagers_col} (différence de : {initial_col - post_usagers_col} variables).\")"
   ],
   "metadata": {
    "collapsed": false,
    "ExecuteTime": {
     "end_time": "2024-04-14T21:46:48.253244600Z",
     "start_time": "2024-04-14T21:46:48.244453Z"
    }
   },
   "id": "36fc6c6255875a42",
   "execution_count": 109
  },
  {
   "cell_type": "markdown",
   "source": [
    "#### Caractéristiques"
   ],
   "metadata": {
    "collapsed": false
   },
   "id": "d681bbc8a31c3da1"
  },
  {
   "cell_type": "code",
   "outputs": [],
   "source": [
    "# Suppression des colonnes \n",
    "col_to_drop_usagers = ['com', 'adr', 'gps', 'lat', 'long']\n",
    "delete_columns(col_to_drop_usagers, test_data)\n",
    "\n",
    "# test_data['an']\n",
    "test_data.loc[(test_data['an'] >= 12) & (test_data['an'] <= 18), 'an'] += 2000\n",
    "\n",
    "# test_data['hrmn']\n",
    "test_data['hrmn'] = test_data['hrmn'].apply(convert_to_int)\n",
    "convert_float_to_int(test_data, 'hrmn')\n",
    "intervals = generate_intervals(0, 2400, 100)\n",
    "simple_values = list(range(len(intervals)))\n",
    "test_data['hrmn'] = test_data['hrmn'].apply(map_to_simple_value, list_cat=intervals)\n",
    "\n",
    "# test_data['lum']\n",
    "test_data['lum'] = test_data['lum'].replace({-1 : pd.NA})\n",
    "\n",
    "# test_data['agg']\n",
    "test_data['agg'] = test_data['agg'].replace({2: 0})\n",
    "\n",
    "# test_data['dep']\n",
    "test_data['dep'] = test_data['dep'].apply(clean_dep)\n",
    "mask = ~(test_data['dep'].isin(map(str, range(1, 96))) | test_data['dep'].isin(['971', '972', '974', '976']))\n",
    "test_data.loc[mask, 'dep'] = pd.NA\n",
    "\n",
    "# test_data['int']\n",
    "test_data['int'] = test_data['int'].replace([-1, 0], pd.NA)"
   ],
   "metadata": {
    "collapsed": false,
    "ExecuteTime": {
     "end_time": "2024-04-14T21:46:48.793201Z",
     "start_time": "2024-04-14T21:46:48.254289600Z"
    }
   },
   "id": "713fdafe036e0c27",
   "execution_count": 110
  },
  {
   "cell_type": "markdown",
   "source": [
    "Nous nous penchons sur les changements des dimensions entre les deux jeux de données (post-usagers/post-caractéristiques) :"
   ],
   "metadata": {
    "collapsed": false
   },
   "id": "d6d32b33db30ffba"
  },
  {
   "cell_type": "code",
   "outputs": [
    {
     "name": "stdout",
     "output_type": "stream",
     "text": [
      "Le nombre d'observations initial est de : 142422 (différence de : 0 lignes).\n",
      "Le nombre de variables initial est de : 42 (différence de : 5 variables).\n"
     ]
    }
   ],
   "source": [
    "post_caract_row = test_data.shape[0]\n",
    "post_caract_col = test_data.shape[1]\n",
    "\n",
    "print(f\"Le nombre d'observations initial est de : {post_caract_row} (différence de : {post_usagers_row - post_caract_row} lignes).\")\n",
    "print(f\"Le nombre de variables initial est de : {post_caract_col} (différence de : {post_usagers_col - post_caract_col} variables).\")"
   ],
   "metadata": {
    "collapsed": false,
    "ExecuteTime": {
     "end_time": "2024-04-14T21:46:48.802006900Z",
     "start_time": "2024-04-14T21:46:48.794247200Z"
    }
   },
   "id": "abd06f7ed02bd8b7",
   "execution_count": 111
  },
  {
   "cell_type": "markdown",
   "source": [
    "#### Lieux"
   ],
   "metadata": {
    "collapsed": false
   },
   "id": "29f8e6fc640f143a"
  },
  {
   "cell_type": "code",
   "outputs": [],
   "source": [
    "# Suppression des colonnes \n",
    "col_to_drop_usagers = ['voie', 'v1', 'v2', 'vosp', 'pr', 'pr1', 'lartpc', 'larrout', 'vma', 'env1', 'circ', 'prof']\n",
    "delete_columns(col_to_drop_usagers, test_data)\n",
    "\n",
    "# test_data['nbv']\n",
    "replace_dict = {'0.0': pd.NA, '1.0': '1', '2.0': '2', '3.0': '3', '4.0': '4', '5.0': '5', '6.0': '6', '7.0': '7', '8.0': '8', '9.0': '9', '10.0': '10', '11.0': '11', '12.0' :'12', '13.0' : '13', '#ERREUR' : pd.NA, -1: pd.NA, '-1.0': pd.NA, ' -1' : pd.NA}\n",
    "test_data['nbv'] = test_data['nbv'].replace(replace_dict)\n",
    "\n",
    "# test_data['plan']\n",
    "test_data['plan'] = test_data['plan'].replace([-1, 0], pd.NA)\n",
    "\n",
    "# test_data['surf']\n",
    "test_data['surf'] = test_data['surf'].replace([-1, 0], pd.NA)\n",
    "\n",
    "# test_data['infra']\n",
    "test_data['infra'] = test_data['infra'].replace({-1 : pd.NA})\n",
    "\n",
    "# test_data['situ']\n",
    "test_data['situ'] = test_data['situ'].replace([-1, 0], pd.NA)"
   ],
   "metadata": {
    "collapsed": false,
    "ExecuteTime": {
     "end_time": "2024-04-14T21:46:49.197588200Z",
     "start_time": "2024-04-14T21:46:48.802006900Z"
    }
   },
   "id": "c9b3d707ac846ab4",
   "execution_count": 112
  },
  {
   "cell_type": "markdown",
   "source": [
    "Nous nous penchons sur les changements des dimensions entre les deux jeux de données (post-caractéristiques/post-lieux) :"
   ],
   "metadata": {
    "collapsed": false
   },
   "id": "9252cdd00c9058b3"
  },
  {
   "cell_type": "code",
   "outputs": [
    {
     "name": "stdout",
     "output_type": "stream",
     "text": [
      "Le nombre d'observations initial est de : 142422 (différence de : 0 lignes).\n",
      "Le nombre de variables initial est de : 30 (différence de : 12 variables).\n"
     ]
    }
   ],
   "source": [
    "post_lieux_row = test_data.shape[0]\n",
    "post_lieux_col = test_data.shape[1]\n",
    "\n",
    "print(f\"Le nombre d'observations initial est de : {post_lieux_row} (différence de : {post_caract_row - post_lieux_row} lignes).\")\n",
    "print(f\"Le nombre de variables initial est de : {post_lieux_col} (différence de : {post_caract_col - post_lieux_col} variables).\")"
   ],
   "metadata": {
    "collapsed": false,
    "ExecuteTime": {
     "end_time": "2024-04-14T21:46:49.204350600Z",
     "start_time": "2024-04-14T21:46:49.199628600Z"
    }
   },
   "id": "3a168808dedcb516",
   "execution_count": 113
  },
  {
   "cell_type": "markdown",
   "source": [
    "#### Véhicules"
   ],
   "metadata": {
    "collapsed": false
   },
   "id": "2379dedcfcee83c8"
  },
  {
   "cell_type": "code",
   "outputs": [],
   "source": [
    "# Suppression des colonnes \n",
    "col_to_drop_usagers = ['senc', 'motor', 'occutc']\n",
    "delete_columns(col_to_drop_usagers, test_data)\n",
    "\n",
    "# test_data['catv']\n",
    "test_data['catv'] = test_data['catv'].replace({-1: 0})\n",
    "\n",
    "# test_data['obs']\n",
    "test_data['obs'] = test_data['obs'].replace({-1: pd.NA})\n",
    "\n",
    "# test_data['obsm']\n",
    "test_data['obsm'] = test_data['obsm'].replace({-1: pd.NA})\n",
    "\n",
    "# test_data['choc']\n",
    "test_data['choc'] = test_data['choc'].replace({-1: pd.NA})\n",
    "\n",
    "# test_data['manv']\n",
    "test_data['manv'] = test_data['manv'].replace([-1, 0], pd.NA)"
   ],
   "metadata": {
    "collapsed": false,
    "ExecuteTime": {
     "end_time": "2024-04-14T21:55:34.663645500Z",
     "start_time": "2024-04-14T21:55:34.530140900Z"
    }
   },
   "id": "6b76d0af2f7b4f47",
   "execution_count": 121
  },
  {
   "cell_type": "markdown",
   "source": [
    "Nous nous penchons sur les changements des dimensions entre les deux jeux de données (post-lieux/post-véhicules) :"
   ],
   "metadata": {
    "collapsed": false
   },
   "id": "147e96f30e4aee67"
  },
  {
   "cell_type": "code",
   "outputs": [
    {
     "name": "stdout",
     "output_type": "stream",
     "text": [
      "Le nombre d'observations initial est de : 142422 (différence de : 0 lignes).\n",
      "Le nombre de variables initial est de : 27 (différence de : 3 variables).\n"
     ]
    }
   ],
   "source": [
    "post_vehicules_row = test_data.shape[0]\n",
    "post_vehicules_col = test_data.shape[1]\n",
    "\n",
    "print(f\"Le nombre d'observations initial est de : {post_vehicules_row} (différence de : {post_lieux_row - post_vehicules_row} lignes).\")\n",
    "print(f\"Le nombre de variables initial est de : {post_vehicules_col} (différence de : {post_lieux_col - post_vehicules_col} variables).\")"
   ],
   "metadata": {
    "collapsed": false,
    "ExecuteTime": {
     "end_time": "2024-04-14T21:56:55.674013Z",
     "start_time": "2024-04-14T21:56:55.611324500Z"
    }
   },
   "id": "9a2dd36d0c21e55",
   "execution_count": 122
  },
  {
   "cell_type": "code",
   "outputs": [],
   "source": [
    "test_data.to_csv('Filtered_Data/TEST/Full_Test_Data_Reduced.csv', index=False)"
   ],
   "metadata": {
    "collapsed": false,
    "ExecuteTime": {
     "end_time": "2024-04-14T21:57:48.979653700Z",
     "start_time": "2024-04-14T21:57:46.871145Z"
    }
   },
   "id": "c57cdab391a60ffd",
   "execution_count": 123
  },
  {
   "cell_type": "markdown",
   "source": [
    "## Traitement des valeurs manquantes"
   ],
   "metadata": {
    "collapsed": false
   },
   "id": "d83bb5ce6bd187b6"
  },
  {
   "cell_type": "code",
   "outputs": [],
   "source": [
    "test_data = pd.read_csv('Filtered_Data/TEST/Full_Test_Data_Reduced.csv', sep=',', low_memory=False)"
   ],
   "metadata": {
    "collapsed": false,
    "ExecuteTime": {
     "end_time": "2024-04-14T23:11:34.632539200Z",
     "start_time": "2024-04-14T23:11:34.244741600Z"
    }
   },
   "id": "5489956bee9ceb52",
   "execution_count": 46
  },
  {
   "cell_type": "markdown",
   "source": [
    "### Parsing des variables \n",
    "\n",
    "Dans l'ensemble toutes les variables sont du style catégorielle. En effet, il est plus pertinent d'assigner ces valeurs numériques à des catégories que de réaliser une moyenne. Il serait faux de dire qu'un individu se trouve à la place 4, car 1 voisin vaut 0 et deux voisins valent 6. Il vaudrait mieux lui assigner la valeur 6 ainsi. L'important sera donc d'assigner un nombre impair au nombre de voisins."
   ],
   "metadata": {
    "collapsed": false
   },
   "id": "78b43694abd56514"
  },
  {
   "cell_type": "code",
   "outputs": [],
   "source": [
    "for column in test_data.columns:\n",
    "    test_data[column] = test_data[column].astype('category')"
   ],
   "metadata": {
    "collapsed": false,
    "ExecuteTime": {
     "end_time": "2024-04-14T23:11:34.773670700Z",
     "start_time": "2024-04-14T23:11:34.620571400Z"
    }
   },
   "id": "38483723185577f9",
   "execution_count": 47
  },
  {
   "cell_type": "markdown",
   "source": [
    "### Remplacement des variables manquantes"
   ],
   "metadata": {
    "collapsed": false
   },
   "id": "1b3b97acb2114ac7"
  },
  {
   "cell_type": "markdown",
   "source": [
    "On remarque que seule le trajet manque de manière importante avec **27%** de valeurs manquantes. Ainsi, on décide de supprimer cette variable et de combler les autres variables par les valeurs les plus fréquentes."
   ],
   "metadata": {
    "collapsed": false
   },
   "id": "ebfb615ce529a121"
  },
  {
   "cell_type": "code",
   "outputs": [
    {
     "name": "stdout",
     "output_type": "stream",
     "text": [
      "Variable 'place' has 1 missing values, the ratio is 0.0007021387145244414.\n",
      "Variable 'sexe' has 559 missing values, the ratio is 0.3924955414191628.\n",
      "Variable 'trajet' has 38459 missing values, the ratio is 27.003552821895493.\n",
      "Variable 'obs' has 59 missing values, the ratio is 0.04142618415694205.\n",
      "Variable 'obsm' has 63 missing values, the ratio is 0.04423473901503981.\n",
      "Variable 'choc' has 37 missing values, the ratio is 0.025979132437404337.\n",
      "Variable 'manv' has 10955 missing values, the ratio is 7.691929617615257.\n",
      "Variable 'lum' has 2 missing values, the ratio is 0.0014042774290488828.\n",
      "Variable 'int' has 25 missing values, the ratio is 0.017553467863111034.\n",
      "Variable 'atm' has 5 missing values, the ratio is 0.003510693572622207.\n",
      "Variable 'dep' has 3019 missing values, the ratio is 2.1197567791492884.\n",
      "Variable 'nbv' has 921 missing values, the ratio is 0.6466697560770106.\n",
      "Variable 'plan' has 7299 missing values, the ratio is 5.124910477313898.\n",
      "Variable 'surf' has 3341 missing values, the ratio is 2.345845445226159.\n",
      "Variable 'infra' has 1593 missing values, the ratio is 1.1185069722374352.\n",
      "Variable 'situ' has 5530 missing values, the ratio is 3.882827091320161.\n"
     ]
    }
   ],
   "source": [
    "# On récupère chaque colonne contenant une variable vide\n",
    "col_with_missing = test_data.columns[test_data.isnull().any()].tolist()\n",
    "\n",
    "# Pour chacune, on affiche son nom et son nombre de valeurs manquantes\n",
    "for col in col_with_missing:\n",
    "    missing_count = test_data[col].isnull().sum()\n",
    "    print(f\"Variable '{col}' has {missing_count} missing values, the ratio is {missing_count / test_data.shape[0] * 100}.\")"
   ],
   "metadata": {
    "collapsed": false,
    "ExecuteTime": {
     "end_time": "2024-04-14T23:11:35.525543Z",
     "start_time": "2024-04-14T23:11:35.504599300Z"
    }
   },
   "id": "fcc0768847000cd",
   "execution_count": 48
  },
  {
   "cell_type": "code",
   "outputs": [
    {
     "name": "stderr",
     "output_type": "stream",
     "text": [
      "C:\\Users\\lucas\\AppData\\Local\\Temp\\ipykernel_5252\\1526997875.py:4: FutureWarning: A value is trying to be set on a copy of a DataFrame or Series through chained assignment using an inplace method.\n",
      "The behavior will change in pandas 3.0. This inplace method will never work because the intermediate object on which we are setting values always behaves as a copy.\n",
      "\n",
      "For example, when doing 'df[col].method(value, inplace=True)', try using 'df.method({col: value}, inplace=True)' or df[col] = df[col].method(value) instead, to perform the operation inplace on the original object.\n",
      "\n",
      "\n",
      "  test_data[col].fillna(most_frequent_value, inplace=True)\n"
     ]
    },
    {
     "data": {
      "text/plain": "0"
     },
     "execution_count": 49,
     "metadata": {},
     "output_type": "execute_result"
    }
   ],
   "source": [
    "# Remplacement par la valeur la plus fréquente\n",
    "for col in col_with_missing:\n",
    "    most_frequent_value = test_data[col].mode()[0]\n",
    "    test_data[col].fillna(most_frequent_value, inplace=True)\n",
    "    \n",
    "# Suppression de test_data['trajet']\n",
    "delete_columns(['trajet'], test_data)\n",
    "    \n",
    "test_data.isna().sum().sum()"
   ],
   "metadata": {
    "collapsed": false,
    "ExecuteTime": {
     "end_time": "2024-04-14T23:11:36.295805100Z",
     "start_time": "2024-04-14T23:11:36.257134900Z"
    }
   },
   "id": "ccc1e4dcddcba713",
   "execution_count": 49
  },
  {
   "cell_type": "code",
   "outputs": [],
   "source": [
    "test_data.to_csv('Filtered_Data/TEST/Full_Test_Data_Reduced_Mode.csv', index=False)"
   ],
   "metadata": {
    "collapsed": false,
    "ExecuteTime": {
     "end_time": "2024-04-14T23:11:51.904749Z",
     "start_time": "2024-04-14T23:11:49.517933100Z"
    }
   },
   "id": "f3220889483c9ce1",
   "execution_count": 50
  },
  {
   "cell_type": "markdown",
   "source": [
    "Désormais, nous pouvons nous pencher sur le feature engineering et appliquer les modèles sur ce jeu de données."
   ],
   "metadata": {
    "collapsed": false
   },
   "id": "230d6897467e77de"
  }
 ],
 "metadata": {
  "kernelspec": {
   "display_name": "Python 3",
   "language": "python",
   "name": "python3"
  },
  "language_info": {
   "codemirror_mode": {
    "name": "ipython",
    "version": 2
   },
   "file_extension": ".py",
   "mimetype": "text/x-python",
   "name": "python",
   "nbconvert_exporter": "python",
   "pygments_lexer": "ipython2",
   "version": "2.7.6"
  }
 },
 "nbformat": 4,
 "nbformat_minor": 5
}
