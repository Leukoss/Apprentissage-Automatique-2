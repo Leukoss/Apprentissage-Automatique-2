{
 "cells": [
  {
   "cell_type": "markdown",
   "id": "e38e9f553635fe04",
   "metadata": {
    "collapsed": false
   },
   "source": [
    "# Nouveau Feature Engineering (Partie 2)\n",
    "\n",
    "## Packages"
   ]
  },
  {
   "cell_type": "code",
   "execution_count": 5,
   "id": "4dd489bb7a586664",
   "metadata": {
    "collapsed": false,
    "ExecuteTime": {
     "end_time": "2024-04-16T19:08:23.549959400Z",
     "start_time": "2024-04-16T19:08:23.540493500Z"
    }
   },
   "outputs": [],
   "source": [
    "import os\n",
    "import pandas as pd"
   ]
  },
  {
   "cell_type": "markdown",
   "id": "436af1e1249b5fa7",
   "metadata": {
    "collapsed": false
   },
   "source": [
    "# Réflexion\n",
    "\n",
    "Désormais que les jeux de données annuelles et par cluster sont construits, on souhaite s'assurer que ces derniers n'aient pas subis d'erreurs lors du feature engineering. Pour cela, nous aurons recours à des plots de distribution pour s'assurer qu'aucune valeur indiscrète ne s'est glissée à travers les mailles du filet. L'objectif à la fin de ce notebook est d'obtenir les mêmes jeux de données qu'en entrée, mais filtrés de toutes erreurs potentielles. "
   ]
  },
  {
   "cell_type": "markdown",
   "id": "dcf0e7b731f9d838",
   "metadata": {
    "collapsed": false
   },
   "source": [
    "# Fonctions utiles"
   ]
  },
  {
   "cell_type": "code",
   "execution_count": 6,
   "id": "87da66a0ef9c95a7",
   "metadata": {
    "collapsed": false,
    "ExecuteTime": {
     "end_time": "2024-04-16T19:08:27.008781600Z",
     "start_time": "2024-04-16T19:08:26.994283300Z"
    }
   },
   "outputs": [],
   "source": [
    "def load_csv_files(folder_path):\n",
    "    \"\"\"\n",
    "    Load CSV files from the specified folder and create variables for each DataFrame.\n",
    "    \"\"\"\n",
    "    csv_files = [file for file in os.listdir(folder_path) if file.endswith('.csv')]\n",
    "    \n",
    "    for file in csv_files:\n",
    "        file_name = os.path.splitext(file)[0]  # Get the filename without extension\n",
    "        df_name = file_name.replace(' ', '_')  # Replace spaces with underscores\n",
    "        \n",
    "        # Load the CSV file into a DataFrame\n",
    "        file_path = os.path.join(folder_path, file)\n",
    "        globals()[df_name] = pd.read_csv(file_path, sep=',', low_memory=False)\n",
    "        print(f\"Loaded DataFrame '{df_name}' from '{file_path}'\")"
   ]
  },
  {
   "cell_type": "markdown",
   "source": [
    "# Chargement des données"
   ],
   "metadata": {
    "collapsed": false
   },
   "id": "5f64e7179d5864e8"
  },
  {
   "cell_type": "code",
   "outputs": [
    {
     "name": "stdout",
     "output_type": "stream",
     "text": [
      "Loaded DataFrame 'train_data_2012' from 'Filtered_Data/TRAIN/DRAFT_2/train_data_2012.csv'\n",
      "Loaded DataFrame 'train_data_2012_to_2015' from 'Filtered_Data/TRAIN/DRAFT_2/train_data_2012_to_2015.csv'\n",
      "Loaded DataFrame 'train_data_2013' from 'Filtered_Data/TRAIN/DRAFT_2/train_data_2013.csv'\n",
      "Loaded DataFrame 'train_data_2014' from 'Filtered_Data/TRAIN/DRAFT_2/train_data_2014.csv'\n",
      "Loaded DataFrame 'train_data_2015' from 'Filtered_Data/TRAIN/DRAFT_2/train_data_2015.csv'\n",
      "Loaded DataFrame 'train_data_2016' from 'Filtered_Data/TRAIN/DRAFT_2/train_data_2016.csv'\n"
     ]
    }
   ],
   "source": [
    "folder_path = 'Filtered_Data/TRAIN/DRAFT_2/'\n",
    "load_csv_files(folder_path)\n",
    "\n",
    "folder_path = 'Filtered_Data/TEST/DRAFT_2/'\n",
    "load_csv_files(folder_path)"
   ],
   "metadata": {
    "collapsed": false,
    "is_executing": true,
    "ExecuteTime": {
     "start_time": "2024-04-16T19:08:34.626231800Z"
    }
   },
   "id": "c383998686ed327c"
  },
  {
   "cell_type": "code",
   "outputs": [],
   "source": [],
   "metadata": {
    "collapsed": false
   },
   "id": "5daef00c7e2da516"
  }
 ],
 "metadata": {
  "kernelspec": {
   "display_name": "Python 3 (ipykernel)",
   "language": "python",
   "name": "python3"
  },
  "language_info": {
   "codemirror_mode": {
    "name": "ipython",
    "version": 3
   },
   "file_extension": ".py",
   "mimetype": "text/x-python",
   "name": "python",
   "nbconvert_exporter": "python",
   "pygments_lexer": "ipython3",
   "version": "3.11.8"
  }
 },
 "nbformat": 4,
 "nbformat_minor": 5
}
